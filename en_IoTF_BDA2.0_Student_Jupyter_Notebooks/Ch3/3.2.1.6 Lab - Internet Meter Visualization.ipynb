{
 "cells": [
  {
   "cell_type": "markdown",
   "metadata": {},
   "source": [
    "![Title](Images/cisco.png)"
   ]
  },
  {
   "cell_type": "markdown",
   "metadata": {},
   "source": [
    "#  Lab - Internet Meter Visualization"
   ]
  },
  {
   "cell_type": "markdown",
   "metadata": {},
   "source": [
    "### Objectives\n",
    "<li>**Part 1: Clean and Analyze Data **</li>\n",
    "<li>**Part 2: Visualize Data **</li>\n",
    "### Scenario/Background\n",
    "In this lab, you will learn how to use the `pandas` library to perform the  preliminary steps that are needed before perfoming any data analysis. This includes removing missing values, changing the format of data, and performing preliminary statistical analysis. \n",
    "After cleaning the data, you will use `matplotlib` for data exploration and visualization.\n",
    "\n",
    "### Required Resources\n",
    "* 1 PC with Internet access\n",
    "* Raspberry Pi version 2 or higher\n",
    "* Python libraries: datetime, csv, subprocess, pandas, numpy\n",
    "* Datafiles: data_long.csv"
   ]
  },
  {
   "cell_type": "markdown",
   "metadata": {},
   "source": [
    "## Part 1: Clean and Analyze Data\n",
    "\n",
    "It is sometimes said that machine learning practitioners spend 80% of their time cleaning data. While this claim is possibly an exaggeration, it is true that data cleaning is a fundamental task, necessary to ensure the success of a machine learning project. As in many other lines of work, the law of 'garbage in, garbage out' does apply. It is simply not possible to do meaningful data analysis on dirty data. \n",
    "\n",
    "#### Step 1: Clean the data.\n",
    "\n",
    "Load data from the file `rpi_data_compact.csv`. This file contains measurements of internet speed, acquired during the lab Internet_Speed_Data_Acquisition. In particular, the focus is on three quantities: ping time (ms), download speed (Mbit/s), and upload speed (Mbit/s). "
   ]
  },
  {
   "cell_type": "markdown",
   "metadata": {},
   "source": [
    "###### a) Read data from `rpi_data_compact.csv`."
   ]
  },
  {
   "cell_type": "markdown",
   "metadata": {},
   "source": [
    "Read the `./Data/rpi_data_compact.csv` file into a Pandas dataframe called `df_compact` and inspect the first three rows of this dataframe using `df.head`. "
   ]
  },
  {
   "cell_type": "code",
   "execution_count": 6,
   "metadata": {},
   "outputs": [],
   "source": [
    "# Code Cell 1\n",
    "import pandas as pd\n",
    "import numpy as np"
   ]
  },
  {
   "cell_type": "code",
   "execution_count": 7,
   "metadata": {},
   "outputs": [
    {
     "data": {
      "text/html": [
       "<div>\n",
       "<style scoped>\n",
       "    .dataframe tbody tr th:only-of-type {\n",
       "        vertical-align: middle;\n",
       "    }\n",
       "\n",
       "    .dataframe tbody tr th {\n",
       "        vertical-align: top;\n",
       "    }\n",
       "\n",
       "    .dataframe thead th {\n",
       "        text-align: right;\n",
       "    }\n",
       "</style>\n",
       "<table border=\"1\" class=\"dataframe\">\n",
       "  <thead>\n",
       "    <tr style=\"text-align: right;\">\n",
       "      <th></th>\n",
       "      <th>Unnamed: 0</th>\n",
       "      <th>Ping (ms)</th>\n",
       "      <th>Download (Mbit/s)</th>\n",
       "      <th>Upload (Mbit/s)</th>\n",
       "      <th>Date</th>\n",
       "      <th>Time</th>\n",
       "    </tr>\n",
       "  </thead>\n",
       "  <tbody>\n",
       "    <tr>\n",
       "      <td>0</td>\n",
       "      <td>0</td>\n",
       "      <td>26.992</td>\n",
       "      <td>91.80</td>\n",
       "      <td>14.31</td>\n",
       "      <td>2016-11-24</td>\n",
       "      <td>13:36:25</td>\n",
       "    </tr>\n",
       "    <tr>\n",
       "      <td>1</td>\n",
       "      <td>1</td>\n",
       "      <td>24.532</td>\n",
       "      <td>88.19</td>\n",
       "      <td>14.12</td>\n",
       "      <td>2016-11-24</td>\n",
       "      <td>13:36:55</td>\n",
       "    </tr>\n",
       "    <tr>\n",
       "      <td>2</td>\n",
       "      <td>2</td>\n",
       "      <td>20.225</td>\n",
       "      <td>59.86</td>\n",
       "      <td>14.11</td>\n",
       "      <td>2016-11-24</td>\n",
       "      <td>13:37:25</td>\n",
       "    </tr>\n",
       "  </tbody>\n",
       "</table>\n",
       "</div>"
      ],
      "text/plain": [
       "   Unnamed: 0 Ping (ms) Download (Mbit/s)  Upload (Mbit/s)        Date  \\\n",
       "0           0    26.992             91.80            14.31  2016-11-24   \n",
       "1           1    24.532             88.19            14.12  2016-11-24   \n",
       "2           2    20.225             59.86            14.11  2016-11-24   \n",
       "\n",
       "       Time  \n",
       "0  13:36:25  \n",
       "1  13:36:55  \n",
       "2  13:37:25  "
      ]
     },
     "execution_count": 7,
     "metadata": {},
     "output_type": "execute_result"
    }
   ],
   "source": [
    "# Code Cell 2\n",
    "# Import data from csv file, and visualize the first rows\n",
    "#df_compact = \n",
    "#df_compact.?()\n",
    "## \n",
    "df_compact = pd.read_csv(\"./Data/rpi_data_compact.csv\")\n",
    "df_compact.head(3)"
   ]
  },
  {
   "cell_type": "markdown",
   "metadata": {},
   "source": [
    "###### b) Remove unwanted columns.\n",
    "\n",
    "As you may have noticed, the dataframe `df_compact` has an extra column. Use the command `df.drop` to remove this column. Look at the Internet_Speed_Data_Acquisition lab for help."
   ]
  },
  {
   "cell_type": "code",
   "execution_count": 8,
   "metadata": {},
   "outputs": [
    {
     "data": {
      "text/html": [
       "<div>\n",
       "<style scoped>\n",
       "    .dataframe tbody tr th:only-of-type {\n",
       "        vertical-align: middle;\n",
       "    }\n",
       "\n",
       "    .dataframe tbody tr th {\n",
       "        vertical-align: top;\n",
       "    }\n",
       "\n",
       "    .dataframe thead th {\n",
       "        text-align: right;\n",
       "    }\n",
       "</style>\n",
       "<table border=\"1\" class=\"dataframe\">\n",
       "  <thead>\n",
       "    <tr style=\"text-align: right;\">\n",
       "      <th></th>\n",
       "      <th>Ping (ms)</th>\n",
       "      <th>Download (Mbit/s)</th>\n",
       "      <th>Upload (Mbit/s)</th>\n",
       "      <th>Date</th>\n",
       "      <th>Time</th>\n",
       "    </tr>\n",
       "  </thead>\n",
       "  <tbody>\n",
       "    <tr>\n",
       "      <td>0</td>\n",
       "      <td>26.992</td>\n",
       "      <td>91.80</td>\n",
       "      <td>14.31</td>\n",
       "      <td>2016-11-24</td>\n",
       "      <td>13:36:25</td>\n",
       "    </tr>\n",
       "    <tr>\n",
       "      <td>1</td>\n",
       "      <td>24.532</td>\n",
       "      <td>88.19</td>\n",
       "      <td>14.12</td>\n",
       "      <td>2016-11-24</td>\n",
       "      <td>13:36:55</td>\n",
       "    </tr>\n",
       "    <tr>\n",
       "      <td>2</td>\n",
       "      <td>20.225</td>\n",
       "      <td>59.86</td>\n",
       "      <td>14.11</td>\n",
       "      <td>2016-11-24</td>\n",
       "      <td>13:37:25</td>\n",
       "    </tr>\n",
       "  </tbody>\n",
       "</table>\n",
       "</div>"
      ],
      "text/plain": [
       "  Ping (ms) Download (Mbit/s)  Upload (Mbit/s)        Date      Time\n",
       "0    26.992             91.80            14.31  2016-11-24  13:36:25\n",
       "1    24.532             88.19            14.12  2016-11-24  13:36:55\n",
       "2    20.225             59.86            14.11  2016-11-24  13:37:25"
      ]
     },
     "execution_count": 8,
     "metadata": {},
     "output_type": "execute_result"
    }
   ],
   "source": [
    "# Code Cell 3\n",
    "# Remove extra index columns\n",
    "df_compact.drop([\"Unnamed: 0\"], inplace=True, axis=1)\n",
    "df_compact.head(3)"
   ]
  },
  {
   "cell_type": "markdown",
   "metadata": {},
   "source": [
    "###### c) Remove  `NaNs`.\n",
    "\n",
    "A common issue that affects data quality is the presence of `NaN` values. These can make data analysis functions abruptly terminate the calculation, throw an error, or produce incorrect results. Typically, NaN values represent a piece of information that should be contained in, but is missing from, the dataset. \n",
    "In this example, `NaN` values in `df_compact` may represent measurements where the Internet connection fell, or queries from the Raspberry Pi that the `Speedtest.net` server failed to answer. The code  below finds out how many `NaN` values are contained in our dataframe. "
   ]
  },
  {
   "cell_type": "markdown",
   "metadata": {},
   "source": [
    "First, go to http://pandas.pydata.org/pandas-docs/version/0.14.1/index.html and search for `isnull` in the search box. ![Image](Images/pandas_screenshot.png)"
   ]
  },
  {
   "cell_type": "markdown",
   "metadata": {},
   "source": [
    "The documentation of the `isnull` function is a little difficult to understand. Fortunately, the Jupyter interactive interface allows us to call this function and quickly examine its output."
   ]
  },
  {
   "cell_type": "code",
   "execution_count": 9,
   "metadata": {},
   "outputs": [
    {
     "name": "stdout",
     "output_type": "stream",
     "text": [
      "<class 'pandas.core.frame.DataFrame'>\n"
     ]
    },
    {
     "data": {
      "text/html": [
       "<div>\n",
       "<style scoped>\n",
       "    .dataframe tbody tr th:only-of-type {\n",
       "        vertical-align: middle;\n",
       "    }\n",
       "\n",
       "    .dataframe tbody tr th {\n",
       "        vertical-align: top;\n",
       "    }\n",
       "\n",
       "    .dataframe thead th {\n",
       "        text-align: right;\n",
       "    }\n",
       "</style>\n",
       "<table border=\"1\" class=\"dataframe\">\n",
       "  <thead>\n",
       "    <tr style=\"text-align: right;\">\n",
       "      <th></th>\n",
       "      <th>Ping (ms)</th>\n",
       "      <th>Download (Mbit/s)</th>\n",
       "      <th>Upload (Mbit/s)</th>\n",
       "      <th>Date</th>\n",
       "      <th>Time</th>\n",
       "    </tr>\n",
       "  </thead>\n",
       "  <tbody>\n",
       "    <tr>\n",
       "      <td>0</td>\n",
       "      <td>False</td>\n",
       "      <td>False</td>\n",
       "      <td>False</td>\n",
       "      <td>False</td>\n",
       "      <td>False</td>\n",
       "    </tr>\n",
       "    <tr>\n",
       "      <td>1</td>\n",
       "      <td>False</td>\n",
       "      <td>False</td>\n",
       "      <td>False</td>\n",
       "      <td>False</td>\n",
       "      <td>False</td>\n",
       "    </tr>\n",
       "    <tr>\n",
       "      <td>2</td>\n",
       "      <td>False</td>\n",
       "      <td>False</td>\n",
       "      <td>False</td>\n",
       "      <td>False</td>\n",
       "      <td>False</td>\n",
       "    </tr>\n",
       "    <tr>\n",
       "      <td>3</td>\n",
       "      <td>False</td>\n",
       "      <td>False</td>\n",
       "      <td>False</td>\n",
       "      <td>False</td>\n",
       "      <td>False</td>\n",
       "    </tr>\n",
       "    <tr>\n",
       "      <td>4</td>\n",
       "      <td>False</td>\n",
       "      <td>False</td>\n",
       "      <td>False</td>\n",
       "      <td>False</td>\n",
       "      <td>False</td>\n",
       "    </tr>\n",
       "  </tbody>\n",
       "</table>\n",
       "</div>"
      ],
      "text/plain": [
       "   Ping (ms)  Download (Mbit/s)  Upload (Mbit/s)   Date   Time\n",
       "0      False              False            False  False  False\n",
       "1      False              False            False  False  False\n",
       "2      False              False            False  False  False\n",
       "3      False              False            False  False  False\n",
       "4      False              False            False  False  False"
      ]
     },
     "execution_count": 9,
     "metadata": {},
     "output_type": "execute_result"
    }
   ],
   "source": [
    "# Code Cell 4\n",
    "NaNs_in_df = df_compact.isnull()\n",
    "print(type(NaNs_in_df))\n",
    "NaNs_in_df.head()\n"
   ]
  },
  {
   "cell_type": "markdown",
   "metadata": {},
   "source": [
    "The outcome of the `isnull` function is a new data frame that contains a `True` of `False` if the corresponding element of the `DataFrame` is `NaN` or not. Using the function `sum` on this `DataFrame` will automatically convert the values `True` into 1s and `False` into 0s.  "
   ]
  },
  {
   "cell_type": "code",
   "execution_count": 10,
   "metadata": {},
   "outputs": [
    {
     "name": "stdout",
     "output_type": "stream",
     "text": [
      "<class 'pandas.core.series.Series'>\n"
     ]
    },
    {
     "data": {
      "text/plain": [
       "Ping (ms)            1\n",
       "Download (Mbit/s)    1\n",
       "Upload (Mbit/s)      7\n",
       "Date                 7\n",
       "Time                 7\n",
       "dtype: int64"
      ]
     },
     "execution_count": 10,
     "metadata": {},
     "output_type": "execute_result"
    }
   ],
   "source": [
    "# Code Cell 5\n",
    "NaNs_per_column = NaNs_in_df.sum()\n",
    "print(type(NaNs_per_column))\n",
    "NaNs_per_column.head()"
   ]
  },
  {
   "cell_type": "markdown",
   "metadata": {},
   "source": [
    "The resulting `NaN_per_column` is a `pandas` `Series` object, that can be thought of as a single column of `DataFrame` (a `DataFrame` is actually a dict of `Series`, where the keys are the column names). A `Series` object contains almost all of the functionalities of a `DataFrame`. \n",
    "Use the `sum` function on the `Nan_per_column Series` and display the outcome."
   ]
  },
  {
   "cell_type": "code",
   "execution_count": 11,
   "metadata": {},
   "outputs": [
    {
     "data": {
      "text/plain": [
       "23"
      ]
     },
     "execution_count": 11,
     "metadata": {},
     "output_type": "execute_result"
    }
   ],
   "source": [
    "# Code Cell 6\n",
    "NaNs_total = NaNs_per_column.sum()\n",
    "NaNs_total"
   ]
  },
  {
   "cell_type": "markdown",
   "metadata": {},
   "source": [
    "It is possible to concatenate all this instruction in one line, as follows:"
   ]
  },
  {
   "cell_type": "code",
   "execution_count": 12,
   "metadata": {},
   "outputs": [
    {
     "data": {
      "text/plain": [
       "23"
      ]
     },
     "execution_count": 12,
     "metadata": {},
     "output_type": "execute_result"
    }
   ],
   "source": [
    "# Code Cell 7\n",
    "df_compact.isnull().sum().sum()"
   ]
  },
  {
   "cell_type": "markdown",
   "metadata": {},
   "source": [
    "Compute the number of missing values as a percentage of all the elements in the dataframe (round the result to the second decimal using `numpy.round` https://docs.scipy.org/doc/numpy/reference/generated/numpy.round_.html) "
   ]
  },
  {
   "cell_type": "markdown",
   "metadata": {},
   "source": [
    "Use the `pandas` function `dropna` to remove `NaN` values from `df_compact`."
   ]
  },
  {
   "cell_type": "code",
   "execution_count": 13,
   "metadata": {},
   "outputs": [
    {
     "name": "stdout",
     "output_type": "stream",
     "text": [
      "The DataFrame contains : 23 NaNs, equal to 0.6765 of the measurements\n"
     ]
    }
   ],
   "source": [
    "# Code Cell 8\n",
    "NaNs_pct = np.round(df_compact.isnull().sum().sum()/float(len(df_compact)*len(df_compact.columns))*100, decimals = 4)\n",
    "print('The DataFrame contains : {} NaNs, equal to {} of the measurements'.format(NaNs_total, NaNs_pct)) #EDL : moved parenthesis"
   ]
  },
  {
   "cell_type": "markdown",
   "metadata": {},
   "source": [
    "The function `dropna`, if called with only default parameters, removes all the rows of a `DataFrame` if any of its values is `NaN'. "
   ]
  },
  {
   "cell_type": "code",
   "execution_count": 14,
   "metadata": {},
   "outputs": [],
   "source": [
    "# Code Cell 9\n",
    "# Remove NaN values\n",
    "df_compact_clean = df_compact.dropna()"
   ]
  },
  {
   "cell_type": "markdown",
   "metadata": {},
   "source": [
    "Compare the length of the values before and after using `dropna`. Do you notice something odd? Why?"
   ]
  },
  {
   "cell_type": "code",
   "execution_count": 15,
   "metadata": {},
   "outputs": [
    {
     "name": "stdout",
     "output_type": "stream",
     "text": [
      "680\n",
      "673\n"
     ]
    }
   ],
   "source": [
    "# Code Cell 10\n",
    "print(len(df_compact))\n",
    "print(len(df_compact_clean)) "
   ]
  },
  {
   "cell_type": "markdown",
   "metadata": {},
   "source": [
    "###### d) Change values format.\n",
    "\n",
    "The columns for ping, upload, and download in the dataframe `df_compact` contain numerical values. It is therefore reasonable to expect that they all share one datatype, for example `float64`. This, however, is not the case, as it can be detected using `dtypes`: "
   ]
  },
  {
   "cell_type": "code",
   "execution_count": 16,
   "metadata": {},
   "outputs": [
    {
     "data": {
      "text/plain": [
       "Ping (ms)             object\n",
       "Download (Mbit/s)     object\n",
       "Upload (Mbit/s)      float64\n",
       "Date                  object\n",
       "Time                  object\n",
       "dtype: object"
      ]
     },
     "execution_count": 16,
     "metadata": {},
     "output_type": "execute_result"
    }
   ],
   "source": [
    "# Code Cell 11\n",
    "# Ping and Download are not floats\n",
    "df_compact.dtypes"
   ]
  },
  {
   "cell_type": "markdown",
   "metadata": {},
   "source": [
    "Use the Python function `float()` to convert a string value into a into `float` format."
   ]
  },
  {
   "cell_type": "code",
   "execution_count": 17,
   "metadata": {},
   "outputs": [
    {
     "name": "stdout",
     "output_type": "stream",
     "text": [
      "10.56 <class 'str'> 10.56 <class 'float'>\n"
     ]
    }
   ],
   "source": [
    "# Code Cell 12\n",
    "str_val = '10.56'\n",
    "float_val = float(str_val)\n",
    "print(str_val, type(str_val), float_val, type(float_val))"
   ]
  },
  {
   "cell_type": "markdown",
   "metadata": {},
   "source": [
    "Now convert all the values of the columns 'Ping (ms)' and 'Download (Mbit/s)' into float. Hint: use `apply` and `lambda`. For help, look at the Internet_Speed_Data_Acquisition lab."
   ]
  },
  {
   "cell_type": "code",
   "execution_count": 18,
   "metadata": {},
   "outputs": [
    {
     "data": {
      "text/plain": [
       "Ping (ms)                   object\n",
       "Download (Mbit/s)           object\n",
       "Upload (Mbit/s)            float64\n",
       "Date                        object\n",
       "Time                        object\n",
       "Ping (ms)_float            float64\n",
       "Download (Mbit/s)_float    float64\n",
       "dtype: object"
      ]
     },
     "execution_count": 18,
     "metadata": {},
     "output_type": "execute_result"
    }
   ],
   "source": [
    "# Code Cell 14\n",
    "# this disables a notebook warning that is not relevant for our use case\n",
    "pd.options.mode.chained_assignment = None\n",
    "\n",
    "# Convert Ping and Download to float\n",
    "#df_compact_clean['Ping (ms)_float'] = ...\n",
    "#df_compact_clean['Download (Mbit/s)_float'] = ...\n",
    "\n",
    "\n",
    "#Check that the types have been successfully converted\n",
    "# ...\n",
    "\n",
    "##\n",
    "df_compact_clean['Ping (ms)_float'] = df_compact_clean[\"Ping (ms)\"].apply(lambda x: float(x))\n",
    "df_compact_clean['Download (Mbit/s)_float'] = df_compact_clean[\"Download (Mbit/s)\"].apply(lambda x: float(x))\n",
    "\n",
    "df_compact_clean.dtypes"
   ]
  },
  {
   "cell_type": "markdown",
   "metadata": {},
   "source": [
    "Now, remove the original `Ping (ms)` and `Download (Mbit/s)` columns, and rename the new `Ping (ms)_float` and `Download (Mbit/s)_float` to `Ping (ms)` and `Download (Mbit/s)`. Use `df.drop` and `df.rename`, like in the  Internet_Speed_Data_Acquisition lab."
   ]
  },
  {
   "cell_type": "code",
   "execution_count": 19,
   "metadata": {},
   "outputs": [],
   "source": [
    "# Code Cell 15\n",
    "# Remove the original 'Ping (ms)' and 'Download (Mbit/s)' columns\n",
    "df_compact_clean.drop([\"Ping (ms)\", \"Download (Mbit/s)\"], inplace=True, axis=1)\n",
    "\n",
    "# Rename the new 'Ping (ms) float' and 'Download (Mbit/s) float ' to Ping (ms)' and 'Download (Mbit/s)\n",
    "df_compact_clean.rename(columns={\"Ping (ms)_float\":\"Ping (ms)\", \"Download (Mbit/s)_float\":\"Download (Mbit/s)\"},\\\n",
    "                    inplace=True)"
   ]
  },
  {
   "cell_type": "code",
   "execution_count": 20,
   "metadata": {},
   "outputs": [
    {
     "data": {
      "text/html": [
       "<div>\n",
       "<style scoped>\n",
       "    .dataframe tbody tr th:only-of-type {\n",
       "        vertical-align: middle;\n",
       "    }\n",
       "\n",
       "    .dataframe tbody tr th {\n",
       "        vertical-align: top;\n",
       "    }\n",
       "\n",
       "    .dataframe thead th {\n",
       "        text-align: right;\n",
       "    }\n",
       "</style>\n",
       "<table border=\"1\" class=\"dataframe\">\n",
       "  <thead>\n",
       "    <tr style=\"text-align: right;\">\n",
       "      <th></th>\n",
       "      <th>Upload (Mbit/s)</th>\n",
       "      <th>Date</th>\n",
       "      <th>Time</th>\n",
       "      <th>Ping (ms)</th>\n",
       "      <th>Download (Mbit/s)</th>\n",
       "    </tr>\n",
       "  </thead>\n",
       "  <tbody>\n",
       "    <tr>\n",
       "      <td>0</td>\n",
       "      <td>14.31</td>\n",
       "      <td>2016-11-24</td>\n",
       "      <td>13:36:25</td>\n",
       "      <td>26.992</td>\n",
       "      <td>91.80</td>\n",
       "    </tr>\n",
       "    <tr>\n",
       "      <td>1</td>\n",
       "      <td>14.12</td>\n",
       "      <td>2016-11-24</td>\n",
       "      <td>13:36:55</td>\n",
       "      <td>24.532</td>\n",
       "      <td>88.19</td>\n",
       "    </tr>\n",
       "    <tr>\n",
       "      <td>2</td>\n",
       "      <td>14.11</td>\n",
       "      <td>2016-11-24</td>\n",
       "      <td>13:37:25</td>\n",
       "      <td>20.225</td>\n",
       "      <td>59.86</td>\n",
       "    </tr>\n",
       "    <tr>\n",
       "      <td>3</td>\n",
       "      <td>14.22</td>\n",
       "      <td>2016-11-24</td>\n",
       "      <td>13:37:57</td>\n",
       "      <td>19.332</td>\n",
       "      <td>91.81</td>\n",
       "    </tr>\n",
       "    <tr>\n",
       "      <td>4</td>\n",
       "      <td>14.08</td>\n",
       "      <td>2016-11-24</td>\n",
       "      <td>13:38:27</td>\n",
       "      <td>22.494</td>\n",
       "      <td>92.05</td>\n",
       "    </tr>\n",
       "  </tbody>\n",
       "</table>\n",
       "</div>"
      ],
      "text/plain": [
       "   Upload (Mbit/s)        Date      Time  Ping (ms)  Download (Mbit/s)\n",
       "0            14.31  2016-11-24  13:36:25     26.992              91.80\n",
       "1            14.12  2016-11-24  13:36:55     24.532              88.19\n",
       "2            14.11  2016-11-24  13:37:25     20.225              59.86\n",
       "3            14.22  2016-11-24  13:37:57     19.332              91.81\n",
       "4            14.08  2016-11-24  13:38:27     22.494              92.05"
      ]
     },
     "execution_count": 20,
     "metadata": {},
     "output_type": "execute_result"
    }
   ],
   "source": [
    "# Code Cell 16\n",
    "df_compact_clean.head()"
   ]
  },
  {
   "cell_type": "markdown",
   "metadata": {},
   "source": [
    "Before saving the `DataFrame`, it makes sense to reposition `Upload` as the last column. This can be achieved using the `reindex` function."
   ]
  },
  {
   "cell_type": "code",
   "execution_count": 21,
   "metadata": {},
   "outputs": [
    {
     "data": {
      "text/html": [
       "<div>\n",
       "<style scoped>\n",
       "    .dataframe tbody tr th:only-of-type {\n",
       "        vertical-align: middle;\n",
       "    }\n",
       "\n",
       "    .dataframe tbody tr th {\n",
       "        vertical-align: top;\n",
       "    }\n",
       "\n",
       "    .dataframe thead th {\n",
       "        text-align: right;\n",
       "    }\n",
       "</style>\n",
       "<table border=\"1\" class=\"dataframe\">\n",
       "  <thead>\n",
       "    <tr style=\"text-align: right;\">\n",
       "      <th></th>\n",
       "      <th>Date</th>\n",
       "      <th>Time</th>\n",
       "      <th>Ping (ms)</th>\n",
       "      <th>Download (Mbit/s)</th>\n",
       "      <th>Upload (Mbit/s)</th>\n",
       "    </tr>\n",
       "  </thead>\n",
       "  <tbody>\n",
       "    <tr>\n",
       "      <td>0</td>\n",
       "      <td>2016-11-24</td>\n",
       "      <td>13:36:25</td>\n",
       "      <td>26.992</td>\n",
       "      <td>91.80</td>\n",
       "      <td>14.31</td>\n",
       "    </tr>\n",
       "    <tr>\n",
       "      <td>1</td>\n",
       "      <td>2016-11-24</td>\n",
       "      <td>13:36:55</td>\n",
       "      <td>24.532</td>\n",
       "      <td>88.19</td>\n",
       "      <td>14.12</td>\n",
       "    </tr>\n",
       "    <tr>\n",
       "      <td>2</td>\n",
       "      <td>2016-11-24</td>\n",
       "      <td>13:37:25</td>\n",
       "      <td>20.225</td>\n",
       "      <td>59.86</td>\n",
       "      <td>14.11</td>\n",
       "    </tr>\n",
       "    <tr>\n",
       "      <td>3</td>\n",
       "      <td>2016-11-24</td>\n",
       "      <td>13:37:57</td>\n",
       "      <td>19.332</td>\n",
       "      <td>91.81</td>\n",
       "      <td>14.22</td>\n",
       "    </tr>\n",
       "    <tr>\n",
       "      <td>4</td>\n",
       "      <td>2016-11-24</td>\n",
       "      <td>13:38:27</td>\n",
       "      <td>22.494</td>\n",
       "      <td>92.05</td>\n",
       "      <td>14.08</td>\n",
       "    </tr>\n",
       "  </tbody>\n",
       "</table>\n",
       "</div>"
      ],
      "text/plain": [
       "         Date      Time  Ping (ms)  Download (Mbit/s)  Upload (Mbit/s)\n",
       "0  2016-11-24  13:36:25     26.992              91.80            14.31\n",
       "1  2016-11-24  13:36:55     24.532              88.19            14.12\n",
       "2  2016-11-24  13:37:25     20.225              59.86            14.11\n",
       "3  2016-11-24  13:37:57     19.332              91.81            14.22\n",
       "4  2016-11-24  13:38:27     22.494              92.05            14.08"
      ]
     },
     "execution_count": 21,
     "metadata": {},
     "output_type": "execute_result"
    }
   ],
   "source": [
    "# Code Cell 17\n",
    "df_compact_clean = df_compact_clean.reindex(columns = ['Date', 'Time', 'Ping (ms)','Download (Mbit/s)','Upload (Mbit/s)']);\n",
    "df_compact_clean.head()"
   ]
  },
  {
   "cell_type": "markdown",
   "metadata": {},
   "source": [
    "Now that the dataset is finally clean, store it in a csv file and rename it."
   ]
  },
  {
   "cell_type": "code",
   "execution_count": 22,
   "metadata": {},
   "outputs": [],
   "source": [
    "# Code Cell 18\n",
    "# Let's save the new cleaned dataframe to a csv\n",
    "df_compact_clean.to_csv('./rpi_data_processed.csv', index=False)\n",
    "\n",
    "df_clean = df_compact_clean"
   ]
  },
  {
   "cell_type": "markdown",
   "metadata": {},
   "source": [
    "#### Step 2:  Basic statistics.\n",
    "\n",
    "New data requires not only cleaning, but also a good deal of getting used to. When you start a data analyis project, it is worthwhile to invest effort in exploring and calculating some basic statistical properties of the data. This entails computing averages, standard deviations, and correlations. "
   ]
  },
  {
   "cell_type": "markdown",
   "metadata": {},
   "source": [
    "######  a) Calculate mean and standard deviation using Pandas.\n",
    "\n",
    "The mean and the standard deviation of all the columns of a `DataFrame` can be computed using `mean()` and `std()` .\n",
    "Look for them in the `pandas` library documentation and apply them to the `df_clean DataFrame`  \n",
    "\n",
    "Quote the results as `quantity = mean ± standard_deviation`. Do not forget to include the units of measurement associated with each quantity. "
   ]
  },
  {
   "cell_type": "code",
   "execution_count": 23,
   "metadata": {},
   "outputs": [
    {
     "name": "stdout",
     "output_type": "stream",
     "text": [
      "Average ping time: 21.115451708766724 ± 5.161225495663228 ms\n",
      "Average download speed: 90.44921248142644 ± 3.4656470318152284 Mbit/s\n",
      "Average upload speed: 13.697607726597328 ± 1.0804708853031768 Mbit/s\n"
     ]
    }
   ],
   "source": [
    "# Code Cell 19\n",
    "# Compute mean and std for all the columns of df_compact\n",
    "# SOLUTION:\n",
    "# means = ...\n",
    "# stands = ...\n",
    "\n",
    "means = df_clean.mean()\n",
    "stands = df_clean.std()\n",
    "\n",
    "# Place mean and std for each column in a tuple\n",
    "stats_ping = (means['Ping (ms)'], stands['Ping (ms)'])\n",
    "stats_download = (means['Download (Mbit/s)'], stands['Download (Mbit/s)'])\n",
    "stats_upload = (means['Upload (Mbit/s)'], stands['Upload (Mbit/s)'])\n",
    "\n",
    "# Print the mean value ± the standard deviation, including measuring units\n",
    "print('Average ping time: {} ± {} ms'.format(stats_ping[0],stats_ping[1]))\n",
    "print('Average download speed: {} ± {} Mbit/s'.format(*stats_download))\n",
    "print('Average upload speed: {} ± {} Mbit/s'.format(*stats_upload))"
   ]
  },
  {
   "cell_type": "markdown",
   "metadata": {},
   "source": [
    "###### b) Calculate min and max deviation using Pandas.\n",
    "\n",
    "Search in the `pandas` library documentation for how to compute the minimum and the maximum values for all the columns in the `DataFrame`."
   ]
  },
  {
   "cell_type": "code",
   "execution_count": 24,
   "metadata": {},
   "outputs": [
    {
     "name": "stdout",
     "output_type": "stream",
     "text": [
      "Min ping time: 16.167 ms. Max ping time: 76.528 ms\n",
      "Min download speed: 58.48 Mbit/s. Max download speed: 92.87 Mbit/s\n",
      "Min upload speed: 6.21 Mbit/s. Max upload speed: 14.55 Mbit/s\n"
     ]
    }
   ],
   "source": [
    "# Code Cell 23\n",
    "# Compute max and min for all the columns of df_compact\n",
    "mins = df_clean.min()\n",
    "maxs = df_clean.max()\n",
    "\n",
    "# Place mean and std for each column in a tuple\n",
    "mima_ping = (mins['Ping (ms)'], maxs['Ping (ms)'])\n",
    "mima_download = (mins['Download (Mbit/s)'], maxs['Download (Mbit/s)'])\n",
    "mima_upload = (mins['Upload (Mbit/s)'], maxs['Upload (Mbit/s)'])\n",
    "\n",
    "# Print the mean and max values, including measuring units\n",
    "print('Min ping time: {} ms. Max ping time: {} ms'.format(*mima_ping))\n",
    "print('Min download speed: {} Mbit/s. Max download speed: {} Mbit/s'.format(*mima_download))\n",
    "print('Min upload speed: {} Mbit/s. Max upload speed: {} Mbit/s'.format(*mima_upload))"
   ]
  },
  {
   "cell_type": "markdown",
   "metadata": {},
   "source": [
    "###### c) Use the `pandas`  `describe` function.\n",
    "Execute the following line of code. Notice how much time the `pandas` library can save you with even a single line of code!   "
   ]
  },
  {
   "cell_type": "code",
   "execution_count": 25,
   "metadata": {},
   "outputs": [
    {
     "data": {
      "text/html": [
       "<div>\n",
       "<style scoped>\n",
       "    .dataframe tbody tr th:only-of-type {\n",
       "        vertical-align: middle;\n",
       "    }\n",
       "\n",
       "    .dataframe tbody tr th {\n",
       "        vertical-align: top;\n",
       "    }\n",
       "\n",
       "    .dataframe thead th {\n",
       "        text-align: right;\n",
       "    }\n",
       "</style>\n",
       "<table border=\"1\" class=\"dataframe\">\n",
       "  <thead>\n",
       "    <tr style=\"text-align: right;\">\n",
       "      <th></th>\n",
       "      <th>Ping (ms)</th>\n",
       "      <th>Download (Mbit/s)</th>\n",
       "      <th>Upload (Mbit/s)</th>\n",
       "    </tr>\n",
       "  </thead>\n",
       "  <tbody>\n",
       "    <tr>\n",
       "      <td>count</td>\n",
       "      <td>673.000000</td>\n",
       "      <td>673.000000</td>\n",
       "      <td>673.000000</td>\n",
       "    </tr>\n",
       "    <tr>\n",
       "      <td>mean</td>\n",
       "      <td>21.115452</td>\n",
       "      <td>90.449212</td>\n",
       "      <td>13.697608</td>\n",
       "    </tr>\n",
       "    <tr>\n",
       "      <td>std</td>\n",
       "      <td>5.161225</td>\n",
       "      <td>3.465647</td>\n",
       "      <td>1.080471</td>\n",
       "    </tr>\n",
       "    <tr>\n",
       "      <td>min</td>\n",
       "      <td>16.167000</td>\n",
       "      <td>58.480000</td>\n",
       "      <td>6.210000</td>\n",
       "    </tr>\n",
       "    <tr>\n",
       "      <td>25%</td>\n",
       "      <td>19.115000</td>\n",
       "      <td>90.220000</td>\n",
       "      <td>13.640000</td>\n",
       "    </tr>\n",
       "    <tr>\n",
       "      <td>50%</td>\n",
       "      <td>20.322000</td>\n",
       "      <td>91.560000</td>\n",
       "      <td>13.980000</td>\n",
       "    </tr>\n",
       "    <tr>\n",
       "      <td>75%</td>\n",
       "      <td>21.843000</td>\n",
       "      <td>92.070000</td>\n",
       "      <td>14.180000</td>\n",
       "    </tr>\n",
       "    <tr>\n",
       "      <td>max</td>\n",
       "      <td>76.528000</td>\n",
       "      <td>92.870000</td>\n",
       "      <td>14.550000</td>\n",
       "    </tr>\n",
       "  </tbody>\n",
       "</table>\n",
       "</div>"
      ],
      "text/plain": [
       "        Ping (ms)  Download (Mbit/s)  Upload (Mbit/s)\n",
       "count  673.000000         673.000000       673.000000\n",
       "mean    21.115452          90.449212        13.697608\n",
       "std      5.161225           3.465647         1.080471\n",
       "min     16.167000          58.480000         6.210000\n",
       "25%     19.115000          90.220000        13.640000\n",
       "50%     20.322000          91.560000        13.980000\n",
       "75%     21.843000          92.070000        14.180000\n",
       "max     76.528000          92.870000        14.550000"
      ]
     },
     "execution_count": 25,
     "metadata": {},
     "output_type": "execute_result"
    }
   ],
   "source": [
    "# Code Cell 24\n",
    "df_clean.describe()"
   ]
  },
  {
   "cell_type": "markdown",
   "metadata": {},
   "source": [
    "###### d) Use `argmin`, `argmax` and `iloc`."
   ]
  },
  {
   "cell_type": "markdown",
   "metadata": {},
   "source": [
    "Let's assume you would like to have a computer script that automatically emails status reports to your internet provider. The reports would have to include the date and time corresponding to the minimum internet speed. The temporal information would allow the internet provider to accurately identify the cause behind the slow connection you observed. \n",
    "\n",
    "Using the `pandas` `argmin` and `argmax` functions, find dates and times corresponding to the longest and shortest ping time, the lowest and highest download speed, and the lowest and highest upload speed."
   ]
  },
  {
   "cell_type": "code",
   "execution_count": 26,
   "metadata": {},
   "outputs": [
    {
     "name": "stderr",
     "output_type": "stream",
     "text": [
      "/opt/conda/lib/python3.7/site-packages/ipykernel_launcher.py:3: FutureWarning: \n",
      "The current behaviour of 'Series.argmin' is deprecated, use 'idxmin'\n",
      "instead.\n",
      "The behavior of 'argmin' will be corrected to return the positional\n",
      "minimum in the future. For now, use 'series.values.argmin' or\n",
      "'np.argmin(np.array(values))' to get the position of the minimum\n",
      "row.\n",
      "  This is separate from the ipykernel package so we can avoid doing imports until\n",
      "/opt/conda/lib/python3.7/site-packages/ipykernel_launcher.py:4: FutureWarning: \n",
      "The current behaviour of 'Series.argmax' is deprecated, use 'idxmax'\n",
      "instead.\n",
      "The behavior of 'argmax' will be corrected to return the positional\n",
      "maximum in the future. For now, use 'series.values.argmax' or\n",
      "'np.argmax(np.array(values))' to get the position of the maximum\n",
      "row.\n",
      "  after removing the cwd from sys.path.\n",
      "/opt/conda/lib/python3.7/site-packages/ipykernel_launcher.py:7: FutureWarning: \n",
      "The current behaviour of 'Series.argmin' is deprecated, use 'idxmin'\n",
      "instead.\n",
      "The behavior of 'argmin' will be corrected to return the positional\n",
      "minimum in the future. For now, use 'series.values.argmin' or\n",
      "'np.argmin(np.array(values))' to get the position of the minimum\n",
      "row.\n",
      "  import sys\n",
      "/opt/conda/lib/python3.7/site-packages/ipykernel_launcher.py:8: FutureWarning: \n",
      "The current behaviour of 'Series.argmax' is deprecated, use 'idxmax'\n",
      "instead.\n",
      "The behavior of 'argmax' will be corrected to return the positional\n",
      "maximum in the future. For now, use 'series.values.argmax' or\n",
      "'np.argmax(np.array(values))' to get the position of the maximum\n",
      "row.\n",
      "  \n",
      "/opt/conda/lib/python3.7/site-packages/ipykernel_launcher.py:11: FutureWarning: \n",
      "The current behaviour of 'Series.argmin' is deprecated, use 'idxmin'\n",
      "instead.\n",
      "The behavior of 'argmin' will be corrected to return the positional\n",
      "minimum in the future. For now, use 'series.values.argmin' or\n",
      "'np.argmin(np.array(values))' to get the position of the minimum\n",
      "row.\n",
      "  # This is added back by InteractiveShellApp.init_path()\n",
      "/opt/conda/lib/python3.7/site-packages/ipykernel_launcher.py:12: FutureWarning: \n",
      "The current behaviour of 'Series.argmax' is deprecated, use 'idxmax'\n",
      "instead.\n",
      "The behavior of 'argmax' will be corrected to return the positional\n",
      "maximum in the future. For now, use 'series.values.argmax' or\n",
      "'np.argmax(np.array(values))' to get the position of the maximum\n",
      "row.\n",
      "  if sys.path[0] == '':\n"
     ]
    }
   ],
   "source": [
    "# Code Cell 25\n",
    "# Find the min and max ping time\n",
    "argmin_ping = df_clean['Ping (ms)'].argmin()\n",
    "argmax_ping = df_clean['Ping (ms)'].argmax()\n",
    "\n",
    "# Find the min and max download speed\n",
    "argmin_download = df_clean['Download (Mbit/s)'].argmin()\n",
    "argmax_download = df_clean['Download (Mbit/s)'].argmax()\n",
    "\n",
    "# Find the min and max upload speed\n",
    "argmin_upload = df_clean['Upload (Mbit/s)'].argmin()\n",
    "argmax_upload = df_clean['Upload (Mbit/s)'].argmax()"
   ]
  },
  {
   "cell_type": "markdown",
   "metadata": {},
   "source": [
    "The `argmin` and `argmax` functions return an index relative to a the `Dataframe` rows. To access a specific row using this index, use `iloc`."
   ]
  },
  {
   "cell_type": "code",
   "execution_count": 27,
   "metadata": {},
   "outputs": [
    {
     "data": {
      "text/html": [
       "<div>\n",
       "<style scoped>\n",
       "    .dataframe tbody tr th:only-of-type {\n",
       "        vertical-align: middle;\n",
       "    }\n",
       "\n",
       "    .dataframe tbody tr th {\n",
       "        vertical-align: top;\n",
       "    }\n",
       "\n",
       "    .dataframe thead th {\n",
       "        text-align: right;\n",
       "    }\n",
       "</style>\n",
       "<table border=\"1\" class=\"dataframe\">\n",
       "  <thead>\n",
       "    <tr style=\"text-align: right;\">\n",
       "      <th></th>\n",
       "      <th>field_1</th>\n",
       "      <th>field_2</th>\n",
       "    </tr>\n",
       "  </thead>\n",
       "  <tbody>\n",
       "    <tr>\n",
       "      <td>0</td>\n",
       "      <td>0</td>\n",
       "      <td>0</td>\n",
       "    </tr>\n",
       "    <tr>\n",
       "      <td>1</td>\n",
       "      <td>1</td>\n",
       "      <td>2</td>\n",
       "    </tr>\n",
       "  </tbody>\n",
       "</table>\n",
       "</div>"
      ],
      "text/plain": [
       "   field_1  field_2\n",
       "0        0        0\n",
       "1        1        2"
      ]
     },
     "execution_count": 27,
     "metadata": {},
     "output_type": "execute_result"
    }
   ],
   "source": [
    "# Code Cell 26\n",
    "# Create a small DataFrame and access its rows using iloc\n",
    "\n",
    "# A pandas DataFrame can be initialized passing a dict as a parameter to the constructor pd.DataFrame(). \n",
    "# The key will represent the column, the values the rows.\n",
    "df = pd.DataFrame({'field_1': [0,1], 'field_2': [0,2]})\n",
    "df.head()"
   ]
  },
  {
   "cell_type": "code",
   "execution_count": 31,
   "metadata": {},
   "outputs": [
    {
     "data": {
      "text/plain": [
       "0    0\n",
       "1    1\n",
       "Name: field_1, dtype: int64"
      ]
     },
     "execution_count": 31,
     "metadata": {},
     "output_type": "execute_result"
    }
   ],
   "source": [
    "# Code Cell 27\n",
    "# To access the field_1 of the first row using iloc()\n",
    "df.iloc[1]['field_1']"
   ]
  },
  {
   "cell_type": "markdown",
   "metadata": {},
   "source": [
    "Use the indices computed using `argmax` and `argmin` in combination with `iloc` to visualize the `Date` and the `Time` \n",
    "of the maximum/mimimum Ping, Download, and Upload."
   ]
  },
  {
   "cell_type": "code",
   "execution_count": 28,
   "metadata": {},
   "outputs": [
    {
     "name": "stdout",
     "output_type": "stream",
     "text": [
      "Ping measure reached minimum on 2016-11-24 at 15:26:20\n"
     ]
    },
    {
     "name": "stderr",
     "output_type": "stream",
     "text": [
      "/opt/conda/lib/python3.7/site-packages/ipykernel_launcher.py:6: FutureWarning: \n",
      "The current behaviour of 'Series.argmin' is deprecated, use 'idxmin'\n",
      "instead.\n",
      "The behavior of 'argmin' will be corrected to return the positional\n",
      "minimum in the future. For now, use 'series.values.argmin' or\n",
      "'np.argmin(np.array(values))' to get the position of the minimum\n",
      "row.\n",
      "  \n",
      "/opt/conda/lib/python3.7/site-packages/ipykernel_launcher.py:7: FutureWarning: \n",
      "The current behaviour of 'Series.argmin' is deprecated, use 'idxmin'\n",
      "instead.\n",
      "The behavior of 'argmin' will be corrected to return the positional\n",
      "minimum in the future. For now, use 'series.values.argmin' or\n",
      "'np.argmin(np.array(values))' to get the position of the minimum\n",
      "row.\n",
      "  import sys\n"
     ]
    }
   ],
   "source": [
    "# Code Cell 28\n",
    "#Print the corresponding Date and Time\n",
    "#print('Ping measure reached minimum on {} at {}'.format(df_clean.loc[..., \n",
    "#                                                        df_clean.loc[...))\n",
    "\n",
    "print('Ping measure reached minimum on {} at {}'.format(df_clean.loc[df_clean['Ping (ms)'].argmin()][\"Date\"], \n",
    "                                                       df_clean.loc[df_clean['Ping (ms)'].argmin()][\"Time\"]))\n",
    "\n",
    "#print('Download measure reached minimum on {} at {}'.format(...\n",
    "\n",
    "#print('Upload measure reached minimum on ...\n",
    "\n",
    "#print('Ping measure reached maximum on ... \n",
    "\n",
    "#print('Download measure reached maximum on ...\n",
    "\n",
    "#print('Upload measure reached maximum on ..."
   ]
  },
  {
   "cell_type": "markdown",
   "metadata": {},
   "source": [
    "###### e) Create a correlation.\n",
    "\n",
    "It is useful to analyze if the speed of download tends to increase and decrease together with the speed of upload. The reasoning behind this would be that network usage and technical issues ought to affect download and upload equally. \n",
    "\n",
    "In this scenario, download and upload speeds would be called *positively correlated*. This means that faster download and upload would typically occur together. This would refer to the general trend, but instances of fast download with slow upload would still be possible. \n",
    "\n",
    "On the other hand, you may infer that a higher download speed implies a lower upload speed, and vice-versa. In this case, the argument would be that the internet line can only support a limited amount of information being exchanged. Download and upload would then compete, and keep each other 'in check'.\n",
    "\n",
    "In this scenario, download and upload speeds would be called *negatively correlated*. This means that download would typically be faster when upload is slower, and vice-versa. As before, this would refer to a trend, so that simultaneous good download and upload speeds would still be possible. \n",
    "\n",
    "To complete the picture, the time of ping may be positively or negatively correlated with either upload or download. It is then natural to think of a table, where each quantity is compared with all others. Such tables are well-known mathematical objects, and are dubbed *correlation matrices*. \n",
    "\n",
    "Use the `pandas` function `corr` to derive the correlation matrix of ping, upload, and download. Store the result in a variable called `df_corr`. "
   ]
  },
  {
   "cell_type": "code",
   "execution_count": 29,
   "metadata": {},
   "outputs": [
    {
     "data": {
      "text/html": [
       "<div>\n",
       "<style scoped>\n",
       "    .dataframe tbody tr th:only-of-type {\n",
       "        vertical-align: middle;\n",
       "    }\n",
       "\n",
       "    .dataframe tbody tr th {\n",
       "        vertical-align: top;\n",
       "    }\n",
       "\n",
       "    .dataframe thead th {\n",
       "        text-align: right;\n",
       "    }\n",
       "</style>\n",
       "<table border=\"1\" class=\"dataframe\">\n",
       "  <thead>\n",
       "    <tr style=\"text-align: right;\">\n",
       "      <th></th>\n",
       "      <th>Ping (ms)</th>\n",
       "      <th>Download (Mbit/s)</th>\n",
       "      <th>Upload (Mbit/s)</th>\n",
       "    </tr>\n",
       "  </thead>\n",
       "  <tbody>\n",
       "    <tr>\n",
       "      <td>Ping (ms)</td>\n",
       "      <td>1.000000</td>\n",
       "      <td>-0.045626</td>\n",
       "      <td>-0.463099</td>\n",
       "    </tr>\n",
       "    <tr>\n",
       "      <td>Download (Mbit/s)</td>\n",
       "      <td>-0.045626</td>\n",
       "      <td>1.000000</td>\n",
       "      <td>0.083690</td>\n",
       "    </tr>\n",
       "    <tr>\n",
       "      <td>Upload (Mbit/s)</td>\n",
       "      <td>-0.463099</td>\n",
       "      <td>0.083690</td>\n",
       "      <td>1.000000</td>\n",
       "    </tr>\n",
       "  </tbody>\n",
       "</table>\n",
       "</div>"
      ],
      "text/plain": [
       "                   Ping (ms)  Download (Mbit/s)  Upload (Mbit/s)\n",
       "Ping (ms)           1.000000          -0.045626        -0.463099\n",
       "Download (Mbit/s)  -0.045626           1.000000         0.083690\n",
       "Upload (Mbit/s)    -0.463099           0.083690         1.000000"
      ]
     },
     "execution_count": 29,
     "metadata": {},
     "output_type": "execute_result"
    }
   ],
   "source": [
    "# Code Cell 29\n",
    "# Are these variables correlated?\n",
    "df_corr = df_clean.corr()\n",
    "df_corr"
   ]
  },
  {
   "cell_type": "code",
   "execution_count": 30,
   "metadata": {},
   "outputs": [
    {
     "name": "stdout",
     "output_type": "stream",
     "text": [
      "Correlation coefficient between ping and download: -0.045626110258379995\n",
      "Correlation coefficient between ping and upload: -0.4630987138300184\n",
      "Correlation coefficient between upload and download: 0.08368996933725129\n"
     ]
    }
   ],
   "source": [
    "# Code Cell 30\n",
    "corr = df_corr.values\n",
    "print('Correlation coefficient between ping and download: {}'.format(corr[0, 1]))\n",
    "print('Correlation coefficient between ping and upload: {}'.format(corr[0, 2]))\n",
    "print('Correlation coefficient between upload and download: {}'.format(corr[2, 1]))"
   ]
  },
  {
   "cell_type": "markdown",
   "metadata": {},
   "source": [
    "These numbers answer the  questions on the 'relationship' between ping, download, and upload. Perfect positive correlation yields a value of +1, whereas perfect negative correlation yields a value of -1. Yet, the correlations between download and ping, and between download and upload are close to zero. Moreover, the correlation between upload and ping is small. This leads to the conclusion that the three quantities are, in fact,  mutually **uncorrelated**. \n",
    "\n"
   ]
  },
  {
   "cell_type": "markdown",
   "metadata": {},
   "source": [
    "## Part 2: Visualize Data"
   ]
  },
  {
   "cell_type": "markdown",
   "metadata": {},
   "source": [
    "As the proverb goes, 'A picture is worth a thousand words'. Informative, meaningful, and intuitive graphs play a crucial role in the exploration of data. Plots are useful in the initial stages of a project, and well beyond that. Graphs are a great way to present the results and conclusions of your work in front of an audience.\n",
    "\n",
    "Python has a comprehensive library for making plots, called `Matplotlib`. As an additional learning resource, it is certainly worth taking a look at the official Matplotlib [documentation](http://matplotlib.org/index.html), and in particular at the numerous [examples](http://matplotlib.org/examples/index.html). "
   ]
  },
  {
   "cell_type": "markdown",
   "metadata": {},
   "source": [
    "#### Step 1: Create a first visualization of the Internet Speed Data.\n",
    "\n",
    "Visualize the content of the `df_clean` `DataFrame`."
   ]
  },
  {
   "cell_type": "markdown",
   "metadata": {},
   "source": [
    "###### a) Import Matplotlib."
   ]
  },
  {
   "cell_type": "code",
   "execution_count": 37,
   "metadata": {},
   "outputs": [],
   "source": [
    "# Code Cell 31\n",
    "import matplotlib.pyplot as plt\n",
    "# The following allows your Jupyter notebook to create plots inside a cell\n",
    "%matplotlib inline "
   ]
  },
  {
   "cell_type": "markdown",
   "metadata": {},
   "source": [
    "###### b) Plot Internet speed stats.\n",
    "\n",
    "Based on what you learned in the SF_Crime_Data lab, generate a plot containing three lines: 1. ping (ms) as a function of time, 2. upload (Mbit/s) as a function of time, and 3. download (Mbit/s) as a function of time. Use the legend() function to add a legend to your graph, but do not worry about labelling the axes. We will work out how to do that in a later task.  "
   ]
  },
  {
   "cell_type": "code",
   "execution_count": 40,
   "metadata": {},
   "outputs": [
    {
     "data": {
      "image/png": "[encoded data removed]",
      "text/plain": [
       "<Figure size 720x360 with 1 Axes>"
      ]
     },
     "metadata": {
      "needs_background": "light"
     },
     "output_type": "display_data"
    }
   ],
   "source": [
    "# Code Cell 32\n",
    "# Initialise figure\n",
    "fig, ax = plt.subplots(figsize=(10, 5))\n",
    "\n",
    "# Create x-axis\n",
    "t = pd.to_datetime(df_clean['Time'])\n",
    "\n",
    "\n",
    "# Plot three curves of different colors\n",
    "ax.plot(t, df_clean['Ping (ms)'], label='Ping (ms)')\n",
    "#ax.plot(...\n",
    "#ax.plot(...\n",
    "##\n",
    "ax.plot(t, df_clean['Upload (Mbit/s)'], label='Upload (Mbit/s)')\n",
    "ax.plot(t, df_clean['Download (Mbit/s)'], label='Download (Mbit/s)')\n",
    "##\n",
    "\n",
    "# Insert legend\n",
    "ax.legend()\n",
    "plt.show()"
   ]
  },
  {
   "cell_type": "markdown",
   "metadata": {},
   "source": [
    "###### c) Change the linestyle.\n",
    "Because ping measurements include large and abrupt variations, they are perhaps better visualized using dots. Within the command `ax.plot(...)` for diplaying ping data, specify that these measurements are represented as dots. (Most of the code, here, can be recycled from the previous task.)"
   ]
  },
  {
   "cell_type": "code",
   "execution_count": 39,
   "metadata": {},
   "outputs": [
    {
     "data": {
      "text/plain": [
       "[<matplotlib.lines.Line2D at 0x7ff28b309860>]"
      ]
     },
     "execution_count": 39,
     "metadata": {},
     "output_type": "execute_result"
    },
    {
     "data": {
      "image/png": "[encoded data removed]",
      "text/plain": [
       "<Figure size 720x360 with 1 Axes>"
      ]
     },
     "metadata": {
      "needs_background": "light"
     },
     "output_type": "display_data"
    }
   ],
   "source": [
    "# Code Cell 33\n",
    "# Initialise figure\n",
    "fig, ax = plt.subplots(figsize=(10, 5))\n",
    "\n",
    "# Plot three curves. Ping data \n",
    "# is visualized using dots\n",
    "t = pd.to_datetime(df_clean['Time'])\n",
    "\n",
    "#ax.plot(...\n",
    "#ax.plot(...\n",
    "#ax.plot(...\n",
    "##\n",
    "ax.plot(t, df_clean['Ping (ms)'], 'o', label='Ping (ms)')\n",
    "#ax.plot(...\n",
    "#ax.plot(...\n",
    "##\n",
    "ax.plot(t, df_clean['Upload (Mbit/s)'], label='Upload (Mbit/s)')\n",
    "ax.plot(t, df_clean['Download (Mbit/s)'], label='Download (Mbit/s)')\n",
    "##\n",
    "\n",
    "# Insert legend"
   ]
  },
  {
   "cell_type": "markdown",
   "metadata": {},
   "source": [
    "###### d) Add axis labels."
   ]
  },
  {
   "cell_type": "markdown",
   "metadata": {},
   "source": [
    "A plot without axis labels, and perhaps a title, is difficult to understand, as one cannot know for sure which quantities are being depicted. Make the above graph compliant with standard scientific practice by adding axis labels and a title. Specify a fontsize of about 16, so that title and labels are printed nice and clear. "
   ]
  },
  {
   "cell_type": "code",
   "execution_count": 40,
   "metadata": {},
   "outputs": [
    {
     "data": {
      "image/png": "[encoded data removed]",
      "text/plain": [
       "<Figure size 720x360 with 1 Axes>"
      ]
     },
     "metadata": {
      "needs_background": "light"
     },
     "output_type": "display_data"
    }
   ],
   "source": [
    "# Code Cell 35\n",
    "# Initialise figure\n",
    "fig, ax = plt.subplots(figsize=(10, 5))\n",
    "\n",
    "# Plot three curves\n",
    "t = pd.to_datetime(df_clean['Time'])\n",
    "ax.plot(t, df_clean['Ping (ms)'], 'o', label='Ping (ms)')\n",
    "ax.plot(t, df_clean['Upload (Mbit/s)'], label='Upload (Mbit/s)')\n",
    "ax.plot(t, df_clean['Download (Mbit/s)'], label='Download (Mbit/s)')\n",
    "\n",
    "# Insert legend\n",
    "ax.legend()\n",
    "\n",
    "# Add axis labels and title\n",
    "#ax.set_xlabel(...\n",
    "#ax.set_ylabel(...\n",
    "#ax.set_title(...\n",
    "\n",
    "# Change tick size\n",
    "ax.tick_params(labelsize=14)"
   ]
  },
  {
   "cell_type": "markdown",
   "metadata": {
    "collapsed": true
   },
   "source": [
    "###### e)  Change the plot theme.\n",
    "Use the `'fivethirtyeight'` [style context](http://matplotlib.org/examples/style_sheets/plot_fivethirtyeight.html) to make the previous graph more visually appealing. To do this, add the row with the `with` statement to your code, before calling the `Matplotlib` functions."
   ]
  },
  {
   "cell_type": "code",
   "execution_count": null,
   "metadata": {},
   "outputs": [],
   "source": [
    "# Code Cell 36\n",
    "# Use a style context\n",
    "#with ...\n",
    "\n",
    "    # Initialise figure\n",
    "    #fig, ax = \n",
    "    \n",
    "    # Plot ping as a function of time\n",
    " \n",
    "    # Add axis labels and title\n",
    "    \n",
    "    # Change tick size"
   ]
  },
  {
   "cell_type": "markdown",
   "metadata": {},
   "source": [
    "###### f) Create a Histogram.\n",
    "\n",
    "A histogram is a graphical representation of the frequency of the values of numerical data. Examine the code below. An additional level of complexity is the use of subplots to display the histograms side-by-side. "
   ]
  },
  {
   "cell_type": "code",
   "execution_count": 41,
   "metadata": {},
   "outputs": [
    {
     "data": {
      "image/png": "[encoded data removed]",
      "text/plain": [
       "<Figure size 720x720 with 4 Axes>"
      ]
     },
     "metadata": {},
     "output_type": "display_data"
    }
   ],
   "source": [
    "# Code Cell 37\n",
    "with plt.style.context('fivethirtyeight'):\n",
    "    \n",
    "    nbins = 100\n",
    "    # Initialize figure\n",
    "    fig, ax = plt.subplots(2, 2, figsize=(10, 10))\n",
    "    ax[0][0].hist(df_clean['Ping (ms)'], nbins)\n",
    "    ax[0][0].set_xlabel('Ping (ms)', fontsize=16)\n",
    "    ax[0][0].tick_params(labelsize=14)\n",
    "    ax[0][1].hist(df_clean['Upload (Mbit/s)'], nbins)\n",
    "    ax[0][1].set_xlabel('Upload (Mbit/s)', fontsize=16)\n",
    "    ax[0][1].tick_params(labelsize=14)\n",
    "    ax[1][0].hist(df_clean['Download (Mbit/s)'], nbins)\n",
    "    ax[1][0].set_xlabel('Download (Mbit/s)', fontsize=16)\n",
    "    ax[1][0].tick_params(labelsize=14)\n",
    "    ax[1][1].set_visible(False)"
   ]
  },
  {
   "cell_type": "markdown",
   "metadata": {
    "collapsed": true
   },
   "source": [
    "<font size='0.5'>&copy; 2017 Cisco and/or its affiliates. All rights reserved. This document is Cisco Public.<font>"
   ]
  }
 ],
 "metadata": {
  "kernelspec": {
   "display_name": "Python 3",
   "language": "python",
   "name": "python3"
  },
  "language_info": {
   "codemirror_mode": {
    "name": "ipython",
    "version": 3
   },
   "file_extension": ".py",
   "mimetype": "text/x-python",
   "name": "python",
   "nbconvert_exporter": "python",
   "pygments_lexer": "ipython3",
   "version": "3.7.3"
  }
 },
 "nbformat": 4,
 "nbformat_minor": 1
}
