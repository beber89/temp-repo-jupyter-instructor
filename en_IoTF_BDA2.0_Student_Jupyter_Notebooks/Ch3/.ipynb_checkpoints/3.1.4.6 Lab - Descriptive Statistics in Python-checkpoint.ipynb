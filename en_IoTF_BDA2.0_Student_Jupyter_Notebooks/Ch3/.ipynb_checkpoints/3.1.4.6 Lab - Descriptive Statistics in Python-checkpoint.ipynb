{
 "cells": [
  {
   "cell_type": "markdown",
   "metadata": {},
   "source": [
    "![Title](Images/cisco.png)"
   ]
  },
  {
   "cell_type": "markdown",
   "metadata": {},
   "source": [
    "# Lab - Descriptive Statistics in Python \n"
   ]
  },
  {
   "cell_type": "markdown",
   "metadata": {},
   "source": [
    "### Objectives\n",
    "<p>\n",
    "<li>**Part 1: Analyzing the Data**</li>\n",
    "<li>**Part 2: Visualizing the Data**</li>\n",
    "</p>\n",
    "### Scenario/Background\n",
    "\n",
    "In this lab, you will import a data set into a pandas frame and generate descriptive statistics from the data. You will format text strings report the descriptive statistics and generate a plot of the data. Finally, you will experiment with parameters of the graph to become familiar with plotting data using the `matplotlib.pyplot` libary.\n",
    "\n",
    "### Required Resources\n",
    "\n",
    "* Raspberry Pi version 2 or higher\n",
    "* 1 PC with network access for connection Raspberry Pi\n",
    "* Python libraries: pandas and matplotlib.pyplot\n",
    "* Datafiles: rpi_describe.csv"
   ]
  },
  {
   "cell_type": "markdown",
   "metadata": {},
   "source": [
    "## Part 1: Analyzing the Data\n",
    "\n",
    "The goal of the first part of the lab is to use pandas methods to import a dataset and generate the following descriptive statistics:\n",
    "\n",
    "1. sample size\n",
    "2. mean\n",
    "3. median\n",
    "4. standard deviation\n",
    "5. minimum, maximum, and range of values"
   ]
  },
  {
   "cell_type": "markdown",
   "metadata": {},
   "source": [
    "#### Step 1: Setup the environment and import data.\n",
    "\n",
    "First, you will import the modules and set up the enivronment to display `matplotlib` output to the notebook page. You will use `panda`s to import data from a csv file into a dataframe. You will be working with a file that contains quality control samples for a 20-ounce boxes of a food product. The data is used to check the accurracy of the machines that load the boxes."
   ]
  },
  {
   "cell_type": "markdown",
   "metadata": {},
   "source": [
    "a) Import modules and set up the environment."
   ]
  },
  {
   "cell_type": "code",
   "execution_count": 4,
   "metadata": {},
   "outputs": [],
   "source": [
    "# Code cell 1\n",
    "# pandas pd\n",
    "# matplotlib.pyplot as plt\n",
    "\n",
    "import pandas as pd\n",
    "import matplotlib.pyplot as plt\n",
    "import matplotlib\n",
    "\n",
    "# matplotlib.use('qt5agg')\n",
    "\n",
    "# given\n",
    "%matplotlib inline\n",
    "# import matplotlib\n",
    " # required on some Jupyter Notebook installations"
   ]
  },
  {
   "cell_type": "markdown",
   "metadata": {},
   "source": [
    "b) Import the data from the `rpi_describe.csv` file using the pandas read_csv method. Use \"data\" as the name of the dataframe."
   ]
  },
  {
   "cell_type": "code",
   "execution_count": 6,
   "metadata": {},
   "outputs": [],
   "source": [
    "# Code cell 2\n",
    "# import the csv into the dataframe\n",
    "\n",
    "data = pd.read_csv(\"./Data/rpi_describe.csv\")\n",
    "\n"
   ]
  },
  {
   "cell_type": "markdown",
   "metadata": {},
   "source": [
    "c) Check that the file imported properly by using the pandas `head` and `tail` methods for the dataframe."
   ]
  },
  {
   "cell_type": "code",
   "execution_count": 7,
   "metadata": {},
   "outputs": [
    {
     "name": "stdout",
     "output_type": "stream",
     "text": [
      "   weight\n",
      "0  20.440\n",
      "1  20.244\n",
      "2  20.549\n",
      "3  20.755\n",
      "4  20.740\n"
     ]
    }
   ],
   "source": [
    "# Code cell 3\n",
    "# view the contents of the first five rows in the dataframe\n",
    "print(data.head())"
   ]
  },
  {
   "cell_type": "code",
   "execution_count": 8,
   "metadata": {},
   "outputs": [
    {
     "data": {
      "text/html": [
       "<div>\n",
       "<style scoped>\n",
       "    .dataframe tbody tr th:only-of-type {\n",
       "        vertical-align: middle;\n",
       "    }\n",
       "\n",
       "    .dataframe tbody tr th {\n",
       "        vertical-align: top;\n",
       "    }\n",
       "\n",
       "    .dataframe thead th {\n",
       "        text-align: right;\n",
       "    }\n",
       "</style>\n",
       "<table border=\"1\" class=\"dataframe\">\n",
       "  <thead>\n",
       "    <tr style=\"text-align: right;\">\n",
       "      <th></th>\n",
       "      <th>weight</th>\n",
       "    </tr>\n",
       "  </thead>\n",
       "  <tbody>\n",
       "    <tr>\n",
       "      <td>9995</td>\n",
       "      <td>20.419</td>\n",
       "    </tr>\n",
       "    <tr>\n",
       "      <td>9996</td>\n",
       "      <td>20.554</td>\n",
       "    </tr>\n",
       "    <tr>\n",
       "      <td>9997</td>\n",
       "      <td>20.768</td>\n",
       "    </tr>\n",
       "    <tr>\n",
       "      <td>9998</td>\n",
       "      <td>20.829</td>\n",
       "    </tr>\n",
       "    <tr>\n",
       "      <td>9999</td>\n",
       "      <td>20.667</td>\n",
       "    </tr>\n",
       "  </tbody>\n",
       "</table>\n",
       "</div>"
      ],
      "text/plain": [
       "      weight\n",
       "9995  20.419\n",
       "9996  20.554\n",
       "9997  20.768\n",
       "9998  20.829\n",
       "9999  20.667"
      ]
     },
     "execution_count": 8,
     "metadata": {},
     "output_type": "execute_result"
    }
   ],
   "source": [
    "# Code cell 4\n",
    "# view the contents of the last five rows in the dataframe\n",
    "data.tail()"
   ]
  },
  {
   "cell_type": "markdown",
   "metadata": {},
   "source": [
    "From the output of the tail method, you will notice that there are 10,000 rows of data in the file. Although it is only one column, pandas handles this file very efficiently."
   ]
  },
  {
   "cell_type": "markdown",
   "metadata": {},
   "source": [
    "#### Step 2: Use pandas to view a table of descriptive statistics for the file.\n",
    "\n",
    "pandas includes a number of powerful methods for displaying basic statistics on a dataset."
   ]
  },
  {
   "cell_type": "markdown",
   "metadata": {},
   "source": [
    "a) The `dataframe.describe()` method displays statistics for the datraframe."
   ]
  },
  {
   "cell_type": "code",
   "execution_count": 9,
   "metadata": {},
   "outputs": [
    {
     "data": {
      "text/html": [
       "<div>\n",
       "<style scoped>\n",
       "    .dataframe tbody tr th:only-of-type {\n",
       "        vertical-align: middle;\n",
       "    }\n",
       "\n",
       "    .dataframe tbody tr th {\n",
       "        vertical-align: top;\n",
       "    }\n",
       "\n",
       "    .dataframe thead th {\n",
       "        text-align: right;\n",
       "    }\n",
       "</style>\n",
       "<table border=\"1\" class=\"dataframe\">\n",
       "  <thead>\n",
       "    <tr style=\"text-align: right;\">\n",
       "      <th></th>\n",
       "      <th>weight</th>\n",
       "    </tr>\n",
       "  </thead>\n",
       "  <tbody>\n",
       "    <tr>\n",
       "      <td>count</td>\n",
       "      <td>10000.000000</td>\n",
       "    </tr>\n",
       "    <tr>\n",
       "      <td>mean</td>\n",
       "      <td>20.499212</td>\n",
       "    </tr>\n",
       "    <tr>\n",
       "      <td>std</td>\n",
       "      <td>0.199874</td>\n",
       "    </tr>\n",
       "    <tr>\n",
       "      <td>min</td>\n",
       "      <td>19.752000</td>\n",
       "    </tr>\n",
       "    <tr>\n",
       "      <td>25%</td>\n",
       "      <td>20.365000</td>\n",
       "    </tr>\n",
       "    <tr>\n",
       "      <td>50%</td>\n",
       "      <td>20.500000</td>\n",
       "    </tr>\n",
       "    <tr>\n",
       "      <td>75%</td>\n",
       "      <td>20.635000</td>\n",
       "    </tr>\n",
       "    <tr>\n",
       "      <td>max</td>\n",
       "      <td>21.171000</td>\n",
       "    </tr>\n",
       "  </tbody>\n",
       "</table>\n",
       "</div>"
      ],
      "text/plain": [
       "             weight\n",
       "count  10000.000000\n",
       "mean      20.499212\n",
       "std        0.199874\n",
       "min       19.752000\n",
       "25%       20.365000\n",
       "50%       20.500000\n",
       "75%       20.635000\n",
       "max       21.171000"
      ]
     },
     "execution_count": 9,
     "metadata": {},
     "output_type": "execute_result"
    }
   ],
   "source": [
    "# Code cell 5\n",
    "# use the describe method of the new dataframe to view the table of statistics\n",
    "\n",
    "data.describe()"
   ]
  },
  {
   "cell_type": "markdown",
   "metadata": {},
   "source": [
    "b) To work with rounded values for the weights in the datset, you can add a new column to the data for the rounded values. In pandas, columns are accessed by their headings. To create a new column, the name of the new column is used, in quotes, in square brackets as an index for the dataframe. The `round()` method is used to round the values in the weight column to populate a new column with the rounded values."
   ]
  },
  {
   "cell_type": "code",
   "execution_count": 11,
   "metadata": {},
   "outputs": [],
   "source": [
    "# Code cell 6\n",
    "# Add a new column to the dataframe and populate it with rounded weights.\n",
    "# data['rounded] = data['?'].?(?)\n",
    "data['rounded'] = data['weight'].round()\n",
    "# Verify that values were added.\n",
    "# ..."
   ]
  },
  {
   "cell_type": "markdown",
   "metadata": {},
   "source": [
    "c) It is possible to fill a column with calculated values as well. For example, \n",
    "\n",
    "<pre><code>dataframe['c'] = dataframe['a'] - dataframe['b']</code></pre>\n",
    "\n",
    "will result in the creation of column c in the dataframe and populate it with the difference between the numeric values in column a and b.\n",
    "\n",
    "Create a new column in the dataframe called \"diff\" and populate that column with the amount of weight over or under the target value of 20 ounces. Use the rounded value for the calculation."
   ]
  },
  {
   "cell_type": "code",
   "execution_count": 13,
   "metadata": {},
   "outputs": [
    {
     "data": {
      "text/plain": [
       "9995    0.0\n",
       "9996    1.0\n",
       "9997    1.0\n",
       "9998    1.0\n",
       "9999    1.0\n",
       "Name: diff, dtype: float64"
      ]
     },
     "execution_count": 13,
     "metadata": {},
     "output_type": "execute_result"
    }
   ],
   "source": [
    "# Code cell 7\n",
    "# Create the new column named \"diff\" and fill it with values.\n",
    "#data['diff'] = ???\n",
    "data['diff'] = data['rounded'] - 20\n",
    "\n",
    "# Check the result.\n",
    "data['diff'].tail()"
   ]
  },
  {
   "cell_type": "markdown",
   "metadata": {},
   "source": [
    "#### Step 3: Display Descriptive Statistics in Text\n",
    "\n",
    "In this step you will create variables to hold a series of descriptive statistics and then construct strings to display the values. You will use the following:\n",
    "\n",
    "* `count()` \n",
    "* `mean()`\n",
    "* `median()`\n",
    "* `std()`\n",
    "* `min()`\n",
    "* `max()`"
   ]
  },
  {
   "cell_type": "markdown",
   "metadata": {},
   "source": [
    "a) Use the values in the rounded column of the dataframe. Create a variable for each statistic and calculate the range of values using `min()` and `max()` to compute the range of values."
   ]
  },
  {
   "cell_type": "code",
   "execution_count": 19,
   "metadata": {},
   "outputs": [],
   "source": [
    "# Code cell 8\n",
    "# Create a variables to hold values for the dataset rounded column \n",
    "# count = \n",
    "# mean = \n",
    "# median = \n",
    "# std = \n",
    "# rng = \n",
    "\n",
    "##\n",
    "count = data['rounded'].count()\n",
    "mean = data['rounded'].mean()\n",
    "median = data['rounded'].median()\n",
    "std = data['rounded'].std()\n",
    "rng = (data['rounded'].min(), data['rounded'].max())"
   ]
  },
  {
   "cell_type": "markdown",
   "metadata": {},
   "source": [
    "b) To construct strings that use text and variables to report on the statistics for the data set, use `format()` string method to make it easier to insert the variable values into the strings. Format uses `{}` placeholders to indicate where the variables values should be inserted.\n",
    "\n",
    "Construct sentences such as 'The mean of the distribution is...' for each created variable. For the last statement, include the `min()`, `max()`, and range values in the same sentences to practice using multiple placeholders. You can combine other variables in the same sentence as well."
   ]
  },
  {
   "cell_type": "code",
   "execution_count": 22,
   "metadata": {},
   "outputs": [],
   "source": [
    "# Code cell 9\n",
    "# Create variables to hold your statements.\n",
    "# countstring = \n",
    "# meanstring = \n",
    "# stdstring = \n",
    "# rangestring = \n",
    "##\n",
    "countstring = \"The count of the distribution is {}\".format(count)\n",
    "rangestring = \"The min and max of the distribution are {}, {} respectively\"\\\n",
    ".format(rng[0], rng[1])"
   ]
  },
  {
   "cell_type": "markdown",
   "metadata": {},
   "source": [
    "c) Use the `print` function to output all of your statements."
   ]
  },
  {
   "cell_type": "code",
   "execution_count": 23,
   "metadata": {},
   "outputs": [
    {
     "name": "stdout",
     "output_type": "stream",
     "text": [
      "The count of the distribution is 10000\n",
      "The min and max of the distribution are 20.0, 21.0 respectively\n"
     ]
    }
   ],
   "source": [
    "# Code cell 10\n",
    "# Print all of your statements\n",
    "##\n",
    "print(countstring)\n",
    "print(rangestring)"
   ]
  },
  {
   "cell_type": "markdown",
   "metadata": {},
   "source": [
    "Look at the output for standard deviation. You can format the number so it is easier to understand the results. For example, you can change the output of the standard deviation to display only first 2 digitals after the decimal point.\n",
    "\n",
    "Python document for formatting the strings:\n",
    "\n",
    "https://docs.python.org/2/library/string.html\n",
    "\n",
    "This link provides some formatting examples:\n",
    "\n",
    "https://mkaz.tech/code/python-string-format.html"
   ]
  },
  {
   "cell_type": "code",
   "execution_count": 24,
   "metadata": {},
   "outputs": [
    {
     "name": "stdout",
     "output_type": "stream",
     "text": [
      "The standard deviation of the distribution is 0.50.\n"
     ]
    }
   ],
   "source": [
    "# Code cell 11\n",
    "\n",
    "# Format the standard deviation result to 2 decimal points\n",
    "count = data.rounded.count()\n",
    "stdstring = 'The standard deviation of the distribution is {:.2f}.'.format(std)\n",
    "print(stdstring)"
   ]
  },
  {
   "cell_type": "markdown",
   "metadata": {},
   "source": [
    "## Part 2: Visualizing the Data\n",
    "\n",
    "In this part of the lab, you will create a frequencey distribution for each unique value in the dataset."
   ]
  },
  {
   "cell_type": "markdown",
   "metadata": {},
   "source": [
    "#### Step 1: Create a dataframe that contains the frequence counts for the dataset.\n",
    "\n",
    "a) Create a new dataframe to contain frequency counts using the `value_counts()` method. This method creates a series object, not a dataframe. The index column of this series is given by the unique values of the series, with the column name set automatically to 0. To convert a series in a DataFrame, you can use the `to_frame()` function. Additionally calling the `reset_index()` method on the resulting `DataFrame` will transform the previous index column into a new data column, whose name is automatically set to `index`. You will rename the columns later.\n",
    "\n",
    "\n",
    "\n",
    "</font>You will use the `to_frame()` with the `reset_index()` methods to create a pandas dataframe from the series object. \n",
    "\n",
    "You will use the rounded column from the data dataframe with the `value_counts()` method. Example:\n",
    "\n",
    "<pre><code>variable = dataframe['columnName'].value_counts()</code></pre>"
   ]
  },
  {
   "cell_type": "code",
   "execution_count": 47,
   "metadata": {},
   "outputs": [
    {
     "data": {
      "text/html": [
       "<div>\n",
       "<style scoped>\n",
       "    .dataframe tbody tr th:only-of-type {\n",
       "        vertical-align: middle;\n",
       "    }\n",
       "\n",
       "    .dataframe tbody tr th {\n",
       "        vertical-align: top;\n",
       "    }\n",
       "\n",
       "    .dataframe thead th {\n",
       "        text-align: right;\n",
       "    }\n",
       "</style>\n",
       "<table border=\"1\" class=\"dataframe\">\n",
       "  <thead>\n",
       "    <tr style=\"text-align: right;\">\n",
       "      <th></th>\n",
       "      <th>index</th>\n",
       "      <th>rounded</th>\n",
       "    </tr>\n",
       "  </thead>\n",
       "  <tbody>\n",
       "    <tr>\n",
       "      <td>0</td>\n",
       "      <td>20.0</td>\n",
       "      <td>5017</td>\n",
       "    </tr>\n",
       "    <tr>\n",
       "      <td>1</td>\n",
       "      <td>21.0</td>\n",
       "      <td>4983</td>\n",
       "    </tr>\n",
       "  </tbody>\n",
       "</table>\n",
       "</div>"
      ],
      "text/plain": [
       "   index  rounded\n",
       "0   20.0     5017\n",
       "1   21.0     4983"
      ]
     },
     "execution_count": 47,
     "metadata": {},
     "output_type": "execute_result"
    }
   ],
   "source": [
    "# Code cell 12\n",
    "# Create a variable called 'freq' to hold the weight values and their frequencies\n",
    "#freq = data['rounded'].?()\n",
    "\n",
    "freq = data['rounded'].value_counts()\n",
    "# Convert the freq object to a data frame. Use to_frame().\n",
    "#freq = freq.?().reset_index()\n",
    "freq = freq.to_frame().reset_index()\n",
    "freq"
   ]
  },
  {
   "cell_type": "markdown",
   "metadata": {},
   "source": [
    "b) Use the `type()` function with variable name as an argument to verify that `freq` is not a dataframe object."
   ]
  },
  {
   "cell_type": "code",
   "execution_count": 48,
   "metadata": {},
   "outputs": [
    {
     "data": {
      "text/plain": [
       "pandas.core.frame.DataFrame"
      ]
     },
     "execution_count": 48,
     "metadata": {},
     "output_type": "execute_result"
    }
   ],
   "source": [
    "# Code cell 13\n",
    "# Verify the type of the freq object.\n",
    "type(freq)\n"
   ]
  },
  {
   "cell_type": "markdown",
   "metadata": {},
   "source": [
    "c) Use `head` to look at the new dataframe. The columns in the data frame are not named clearly. Rename them to \"value\" and \"freq\" using the columns attribute of the dataframe. Example:\n",
    "<pre><code>dataframe.columns = ['column1','column2']</code></pre>"
   ]
  },
  {
   "cell_type": "code",
   "execution_count": 49,
   "metadata": {},
   "outputs": [
    {
     "data": {
      "text/html": [
       "<div>\n",
       "<style scoped>\n",
       "    .dataframe tbody tr th:only-of-type {\n",
       "        vertical-align: middle;\n",
       "    }\n",
       "\n",
       "    .dataframe tbody tr th {\n",
       "        vertical-align: top;\n",
       "    }\n",
       "\n",
       "    .dataframe thead th {\n",
       "        text-align: right;\n",
       "    }\n",
       "</style>\n",
       "<table border=\"1\" class=\"dataframe\">\n",
       "  <thead>\n",
       "    <tr style=\"text-align: right;\">\n",
       "      <th></th>\n",
       "      <th>value</th>\n",
       "      <th>freq</th>\n",
       "    </tr>\n",
       "  </thead>\n",
       "  <tbody>\n",
       "    <tr>\n",
       "      <td>0</td>\n",
       "      <td>20.0</td>\n",
       "      <td>5017</td>\n",
       "    </tr>\n",
       "    <tr>\n",
       "      <td>1</td>\n",
       "      <td>21.0</td>\n",
       "      <td>4983</td>\n",
       "    </tr>\n",
       "  </tbody>\n",
       "</table>\n",
       "</div>"
      ],
      "text/plain": [
       "   value  freq\n",
       "0   20.0  5017\n",
       "1   21.0  4983"
      ]
     },
     "execution_count": 49,
     "metadata": {},
     "output_type": "execute_result"
    }
   ],
   "source": [
    "# Code cell 14\n",
    "# Rename the columns in the dataframe.\n",
    "freq.columns = ['value','freq']\n",
    "\n",
    "# Verify the result.\n",
    "freq\n"
   ]
  },
  {
   "cell_type": "markdown",
   "metadata": {},
   "source": [
    "#### Step 2: Plot a graph of the frequency distribution.\n",
    "\n",
    "a) The `matplotlib.pyplot` module was imported as plt earlier in the lab. The methods from the module is used to format and display a scatter plot of the frequency data for a dataset."
   ]
  },
  {
   "cell_type": "code",
   "execution_count": 50,
   "metadata": {},
   "outputs": [
    {
     "data": {
      "text/plain": [
       "[<matplotlib.lines.Line2D at 0x7f4774cee828>]"
      ]
     },
     "execution_count": 50,
     "metadata": {},
     "output_type": "execute_result"
    },
    {
     "data": {
      "image/png": "[encoded data removed]",
      "text/plain": [
       "<Figure size 1440x720 with 1 Axes>"
      ]
     },
     "metadata": {
      "needs_background": "light"
     },
     "output_type": "display_data"
    }
   ],
   "source": [
    "# Code cell 15\n",
    "\n",
    "# Set a size for the graph\n",
    "plt.figure(figsize=(20,10))\n",
    "\n",
    "# Add axis labels\n",
    "plt.ylabel('Frequency')\n",
    "plt.xlabel('Weight')\n",
    "\n",
    "# Plot the graph using a round symbol \"o\" of size 10\n",
    "plt.plot(freq.value,freq.freq, \"o\", markersize = 10, color = 'g')"
   ]
  },
  {
   "cell_type": "markdown",
   "metadata": {},
   "source": [
    "The frequency plot of the values resembles the one of a Gaussian distribution, centered around the value of 20.5 . In Chapter 4 you will learn how this shape is caused by both systematic and random error in the production and/or measurement systems."
   ]
  },
  {
   "cell_type": "markdown",
   "metadata": {
    "collapsed": true
   },
   "source": [
    "b) Experiment with plotting the data with different dimensions, markers, markersizes, and colors. Use the links below for the values. You can also use the example above to try different figure dimensions.\n",
    "\n",
    "markers http://matplotlib.org/api/markers_api.html\n",
    "\n",
    "colors http://matplotlib.org/api/colors_api.html"
   ]
  },
  {
   "cell_type": "markdown",
   "metadata": {
    "collapsed": true
   },
   "source": [
    "<font size='0.5'>&copy; 2017 Cisco and/or its affiliates. All rights reserved. This document is Cisco Public.<font>"
   ]
  }
 ],
 "metadata": {
  "anaconda-cloud": {},
  "kernelspec": {
   "display_name": "Python 3",
   "language": "python",
   "name": "python3"
  },
  "language_info": {
   "codemirror_mode": {
    "name": "ipython",
    "version": 3
   },
   "file_extension": ".py",
   "mimetype": "text/x-python",
   "name": "python",
   "nbconvert_exporter": "python",
   "pygments_lexer": "ipython3",
   "version": "3.7.3"
  }
 },
 "nbformat": 4,
 "nbformat_minor": 1
}
