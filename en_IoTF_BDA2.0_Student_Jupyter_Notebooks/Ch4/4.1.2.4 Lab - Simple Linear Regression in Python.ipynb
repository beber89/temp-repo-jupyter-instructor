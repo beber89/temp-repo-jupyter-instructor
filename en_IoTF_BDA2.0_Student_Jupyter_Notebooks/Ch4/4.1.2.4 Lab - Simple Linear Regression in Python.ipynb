{
 "cells": [
  {
   "cell_type": "markdown",
   "metadata": {},
   "source": [
    "![Title](Images/cisco.png)"
   ]
  },
  {
   "cell_type": "markdown",
   "metadata": {},
   "source": [
    "# Lab - Simple Linear Regression in Python \n",
    "\n",
    "### Objectives\n",
    "In this lab, you will become familiar with the concepts of simple linear regression and working with the provided data to make a prediction. \n",
    "<li>**Part 1: Import the Libraries and Data  **</li>\n",
    "<li>**Part 2: Plot the Data **</li>\n",
    "<li>**Part 3: Perform Simple Linear Regression **</li>\n",
    "### Scenario / Background\n",
    "In statistics, linear regression is a way to model a relationship between dependent variable $y$ and independent variable $x$.\n",
    "\n",
    "In this lab, you will analyze district sales data and perform a simple linear regression to predict annual net sales based on the number of stores in the district.\n",
    "### Required Resources\n",
    "* 1 PC with Internet access\n",
    "* Python libraries: `pandas`, `numpy`, `scipy`, and `matplotlib`\n",
    "* Datafiles: stores-dist.csv"
   ]
  },
  {
   "cell_type": "markdown",
   "metadata": {},
   "source": [
    "## Part 1: Import the Libraries and Data"
   ]
  },
  {
   "cell_type": "markdown",
   "metadata": {},
   "source": [
    "In this part, you will import the libraries and the data from the file `stores-dist.csv`."
   ]
  },
  {
   "cell_type": "markdown",
   "metadata": {},
   "source": [
    "#### Step 1: Import the libraries."
   ]
  },
  {
   "cell_type": "markdown",
   "metadata": {},
   "source": [
    "In this step, you will import the following libraries:\n",
    "\n",
    "* `matplotlib.pyplot` as plt\n",
    "* `numpy` as np\n",
    "* `pandas` as pd"
   ]
  },
  {
   "cell_type": "code",
   "execution_count": 1,
   "metadata": {},
   "outputs": [],
   "source": [
    "# Code Cell 1\n",
    "##\n",
    "import matplotlib.pyplot as plt\n",
    "import numpy as np\n",
    "import pandas as pd\n"
   ]
  },
  {
   "cell_type": "markdown",
   "metadata": {},
   "source": [
    "#### Step 2: Import the data."
   ]
  },
  {
   "cell_type": "markdown",
   "metadata": {},
   "source": [
    "In this step, you will import the data from the file `stores-dist.csv` and verify that the file was imported correctly."
   ]
  },
  {
   "cell_type": "code",
   "execution_count": 2,
   "metadata": {},
   "outputs": [
    {
     "data": {
      "text/html": [
       "<div>\n",
       "<style scoped>\n",
       "    .dataframe tbody tr th:only-of-type {\n",
       "        vertical-align: middle;\n",
       "    }\n",
       "\n",
       "    .dataframe tbody tr th {\n",
       "        vertical-align: top;\n",
       "    }\n",
       "\n",
       "    .dataframe thead th {\n",
       "        text-align: right;\n",
       "    }\n",
       "</style>\n",
       "<table border=\"1\" class=\"dataframe\">\n",
       "  <thead>\n",
       "    <tr style=\"text-align: right;\">\n",
       "      <th></th>\n",
       "      <th>district</th>\n",
       "      <th>annual net sales</th>\n",
       "      <th>number of stores in district</th>\n",
       "    </tr>\n",
       "  </thead>\n",
       "  <tbody>\n",
       "    <tr>\n",
       "      <td>0</td>\n",
       "      <td>1</td>\n",
       "      <td>231.0</td>\n",
       "      <td>12</td>\n",
       "    </tr>\n",
       "    <tr>\n",
       "      <td>1</td>\n",
       "      <td>2</td>\n",
       "      <td>156.0</td>\n",
       "      <td>13</td>\n",
       "    </tr>\n",
       "    <tr>\n",
       "      <td>2</td>\n",
       "      <td>3</td>\n",
       "      <td>10.0</td>\n",
       "      <td>16</td>\n",
       "    </tr>\n",
       "    <tr>\n",
       "      <td>3</td>\n",
       "      <td>4</td>\n",
       "      <td>519.0</td>\n",
       "      <td>2</td>\n",
       "    </tr>\n",
       "    <tr>\n",
       "      <td>4</td>\n",
       "      <td>5</td>\n",
       "      <td>437.0</td>\n",
       "      <td>6</td>\n",
       "    </tr>\n",
       "  </tbody>\n",
       "</table>\n",
       "</div>"
      ],
      "text/plain": [
       "   district  annual net sales  number of stores in district\n",
       "0         1             231.0                            12\n",
       "1         2             156.0                            13\n",
       "2         3              10.0                            16\n",
       "3         4             519.0                             2\n",
       "4         5             437.0                             6"
      ]
     },
     "execution_count": 2,
     "metadata": {},
     "output_type": "execute_result"
    }
   ],
   "source": [
    "# Code Cell 2\n",
    "\n",
    "# Import the file, stores-dist.csv\n",
    "salesDist = pd.read_csv('./Data/stores-dist.csv')\n",
    "\n",
    "# Verify the imported data\n",
    "salesDist.head()"
   ]
  },
  {
   "cell_type": "markdown",
   "metadata": {},
   "source": [
    "The column headings, `annual net sales` and `number of stores in district` are renamed to make it easier during data processing.\n",
    "\n",
    "* `annual net sales` to sales\n",
    "* `number of stores in district` to stores"
   ]
  },
  {
   "cell_type": "code",
   "execution_count": 3,
   "metadata": {},
   "outputs": [
    {
     "data": {
      "text/html": [
       "<div>\n",
       "<style scoped>\n",
       "    .dataframe tbody tr th:only-of-type {\n",
       "        vertical-align: middle;\n",
       "    }\n",
       "\n",
       "    .dataframe tbody tr th {\n",
       "        vertical-align: top;\n",
       "    }\n",
       "\n",
       "    .dataframe thead th {\n",
       "        text-align: right;\n",
       "    }\n",
       "</style>\n",
       "<table border=\"1\" class=\"dataframe\">\n",
       "  <thead>\n",
       "    <tr style=\"text-align: right;\">\n",
       "      <th></th>\n",
       "      <th>district</th>\n",
       "      <th>sales</th>\n",
       "      <th>stores</th>\n",
       "    </tr>\n",
       "  </thead>\n",
       "  <tbody>\n",
       "    <tr>\n",
       "      <td>0</td>\n",
       "      <td>1</td>\n",
       "      <td>231.0</td>\n",
       "      <td>12</td>\n",
       "    </tr>\n",
       "    <tr>\n",
       "      <td>1</td>\n",
       "      <td>2</td>\n",
       "      <td>156.0</td>\n",
       "      <td>13</td>\n",
       "    </tr>\n",
       "    <tr>\n",
       "      <td>2</td>\n",
       "      <td>3</td>\n",
       "      <td>10.0</td>\n",
       "      <td>16</td>\n",
       "    </tr>\n",
       "    <tr>\n",
       "      <td>3</td>\n",
       "      <td>4</td>\n",
       "      <td>519.0</td>\n",
       "      <td>2</td>\n",
       "    </tr>\n",
       "    <tr>\n",
       "      <td>4</td>\n",
       "      <td>5</td>\n",
       "      <td>437.0</td>\n",
       "      <td>6</td>\n",
       "    </tr>\n",
       "  </tbody>\n",
       "</table>\n",
       "</div>"
      ],
      "text/plain": [
       "   district  sales  stores\n",
       "0         1  231.0      12\n",
       "1         2  156.0      13\n",
       "2         3   10.0      16\n",
       "3         4  519.0       2\n",
       "4         5  437.0       6"
      ]
     },
     "execution_count": 3,
     "metadata": {},
     "output_type": "execute_result"
    }
   ],
   "source": [
    "# Code Cell 3\n",
    "# The district column has no relevance at this time, so it can be dropped.\n",
    "salesDist = salesDist.rename(columns={'annual net sales':'sales','number of stores in district':'stores'})\n",
    "salesDist.head()"
   ]
  },
  {
   "cell_type": "markdown",
   "metadata": {},
   "source": [
    "## Part 2: Plot the Data"
   ]
  },
  {
   "cell_type": "markdown",
   "metadata": {},
   "source": [
    "### Step 1: Determine the correlation."
   ]
  },
  {
   "cell_type": "markdown",
   "metadata": {},
   "source": [
    "In this step, you will investigate the correlation of the data prior to regression analysis. You will also drop any unrelated columns as necessary. "
   ]
  },
  {
   "cell_type": "code",
   "execution_count": 4,
   "metadata": {},
   "outputs": [
    {
     "data": {
      "text/html": [
       "<div>\n",
       "<style scoped>\n",
       "    .dataframe tbody tr th:only-of-type {\n",
       "        vertical-align: middle;\n",
       "    }\n",
       "\n",
       "    .dataframe tbody tr th {\n",
       "        vertical-align: top;\n",
       "    }\n",
       "\n",
       "    .dataframe thead th {\n",
       "        text-align: right;\n",
       "    }\n",
       "</style>\n",
       "<table border=\"1\" class=\"dataframe\">\n",
       "  <thead>\n",
       "    <tr style=\"text-align: right;\">\n",
       "      <th></th>\n",
       "      <th>district</th>\n",
       "      <th>sales</th>\n",
       "      <th>stores</th>\n",
       "    </tr>\n",
       "  </thead>\n",
       "  <tbody>\n",
       "    <tr>\n",
       "      <td>district</td>\n",
       "      <td>1.000000</td>\n",
       "      <td>0.136103</td>\n",
       "      <td>-0.230617</td>\n",
       "    </tr>\n",
       "    <tr>\n",
       "      <td>sales</td>\n",
       "      <td>0.136103</td>\n",
       "      <td>1.000000</td>\n",
       "      <td>-0.912236</td>\n",
       "    </tr>\n",
       "    <tr>\n",
       "      <td>stores</td>\n",
       "      <td>-0.230617</td>\n",
       "      <td>-0.912236</td>\n",
       "      <td>1.000000</td>\n",
       "    </tr>\n",
       "  </tbody>\n",
       "</table>\n",
       "</div>"
      ],
      "text/plain": [
       "          district     sales    stores\n",
       "district  1.000000  0.136103 -0.230617\n",
       "sales     0.136103  1.000000 -0.912236\n",
       "stores   -0.230617 -0.912236  1.000000"
      ]
     },
     "execution_count": 4,
     "metadata": {},
     "output_type": "execute_result"
    }
   ],
   "source": [
    "# Code Cell 4\n",
    "# Check correlation of data prior to doing the analysis\n",
    "# # Hint: check lab 3.1.5.5\n",
    "salesDist.corr()"
   ]
  },
  {
   "cell_type": "markdown",
   "metadata": {},
   "source": [
    "From the correlation coefficent, it appears that the column `district` has low correlation to the `annual net sales` and `number of stores in the district`. So the district column is not necessary as part of the regression analysis. The  `district` column can be dropped from the dataframe."
   ]
  },
  {
   "cell_type": "code",
   "execution_count": 5,
   "metadata": {},
   "outputs": [
    {
     "data": {
      "text/html": [
       "<div>\n",
       "<style scoped>\n",
       "    .dataframe tbody tr th:only-of-type {\n",
       "        vertical-align: middle;\n",
       "    }\n",
       "\n",
       "    .dataframe tbody tr th {\n",
       "        vertical-align: top;\n",
       "    }\n",
       "\n",
       "    .dataframe thead th {\n",
       "        text-align: right;\n",
       "    }\n",
       "</style>\n",
       "<table border=\"1\" class=\"dataframe\">\n",
       "  <thead>\n",
       "    <tr style=\"text-align: right;\">\n",
       "      <th></th>\n",
       "      <th>sales</th>\n",
       "      <th>stores</th>\n",
       "    </tr>\n",
       "  </thead>\n",
       "  <tbody>\n",
       "    <tr>\n",
       "      <td>0</td>\n",
       "      <td>231.0</td>\n",
       "      <td>12</td>\n",
       "    </tr>\n",
       "    <tr>\n",
       "      <td>1</td>\n",
       "      <td>156.0</td>\n",
       "      <td>13</td>\n",
       "    </tr>\n",
       "    <tr>\n",
       "      <td>2</td>\n",
       "      <td>10.0</td>\n",
       "      <td>16</td>\n",
       "    </tr>\n",
       "    <tr>\n",
       "      <td>3</td>\n",
       "      <td>519.0</td>\n",
       "      <td>2</td>\n",
       "    </tr>\n",
       "    <tr>\n",
       "      <td>4</td>\n",
       "      <td>437.0</td>\n",
       "      <td>6</td>\n",
       "    </tr>\n",
       "  </tbody>\n",
       "</table>\n",
       "</div>"
      ],
      "text/plain": [
       "   sales  stores\n",
       "0  231.0      12\n",
       "1  156.0      13\n",
       "2   10.0      16\n",
       "3  519.0       2\n",
       "4  437.0       6"
      ]
     },
     "execution_count": 5,
     "metadata": {},
     "output_type": "execute_result"
    }
   ],
   "source": [
    "# Code Cell 5\n",
    "# The district column has no relevance at this time, so it can be dropped.\n",
    "#sales = salesDist.drop(...)\n",
    "sales = salesDist.drop([\"district\"], axis=1)\n",
    "sales.head()"
   ]
  },
  {
   "cell_type": "markdown",
   "metadata": {},
   "source": [
    "From the correlation coefficent data, what type of correlation did you observe between annual net sales and number of stores in the district?"
   ]
  },
  {
   "cell_type": "markdown",
   "metadata": {},
   "source": []
  },
  {
   "cell_type": "markdown",
   "metadata": {},
   "source": [
    "<font color = 'gray'>*Type your answer here.*</font>"
   ]
  },
  {
   "cell_type": "markdown",
   "metadata": {},
   "source": [
    "### Step 2: Create the plot."
   ]
  },
  {
   "cell_type": "markdown",
   "metadata": {},
   "source": [
    "In this step, you will create a plot to visualize the data. You will also assign stores as the independent variable $x$ and sales as the dependent variable $y$."
   ]
  },
  {
   "cell_type": "code",
   "execution_count": 6,
   "metadata": {},
   "outputs": [],
   "source": [
    "# Code Cell 6\n",
    "# dependent variable for y axis\n",
    "y = sales['sales']\n",
    "# independent variable for x axis\n",
    "x = sales.stores"
   ]
  },
  {
   "cell_type": "code",
   "execution_count": 7,
   "metadata": {
    "scrolled": true
   },
   "outputs": [
    {
     "data": {
      "image/png": "[encoded data removed]",
      "text/plain": [
       "<Figure size 1440x720 with 1 Axes>"
      ]
     },
     "metadata": {
      "needs_background": "light"
     },
     "output_type": "display_data"
    }
   ],
   "source": [
    "# Code Cell 7\n",
    "# Display the plot inline\n",
    "%matplotlib inline\n",
    "\n",
    "# Increase the size of the plot\n",
    "plt.figure(figsize=(20,10))\n",
    "\n",
    "# Create a scatter plot: Number of stores in the District vs. Annual Net Sales\n",
    "plt.plot(x,y, 'o', markersize = 15)\n",
    "\n",
    "# Add axis labels and increase the font size\n",
    "plt.ylabel('Annual Net Sales', fontsize = 30)\n",
    "plt.xlabel('Number of Stores in the District', fontsize = 30)\n",
    "\n",
    "# Increase the font size on the ticks on the x and y axis\n",
    "plt.xticks(fontsize = 20)\n",
    "plt.yticks(fontsize = 20)\n",
    "\n",
    "# Display the scatter plot\n",
    "plt.show()"
   ]
  },
  {
   "cell_type": "markdown",
   "metadata": {},
   "source": [
    "## Part 3: Perform Simple Linear Regression"
   ]
  },
  {
   "cell_type": "markdown",
   "metadata": {},
   "source": [
    "In this part, you will use numpy to generate a regression line for the analyzed data. You will also calculate the centroid for this dataset. The centrod is the mean for the dataset. The generated simple linear regression line must also pass through the centroid."
   ]
  },
  {
   "cell_type": "markdown",
   "metadata": {},
   "source": [
    "### Step 1: Calculate the slope and y-intercept of the linear regression line."
   ]
  },
  {
   "cell_type": "code",
   "execution_count": 8,
   "metadata": {},
   "outputs": [
    {
     "name": "stdout",
     "output_type": "stream",
     "text": [
      "The slope of line is -35.79.\n",
      "The y-intercept is 599.38.\n",
      "The best fit simple linear regression line is -35.79x + 599.38.\n"
     ]
    }
   ],
   "source": [
    "# Code Cell 8\n",
    "# Use numpy polyfit for linear regression to fit the data\n",
    "# Generate the slope of the line (m)\n",
    "# Generate the y-intercept (b)\n",
    "m, b = np.polyfit(x,y,1) \n",
    "print ('The slope of line is {:.2f}.'.format(m))\n",
    "print ('The y-intercept is {:.2f}.'.format(b))\n",
    "print ('The best fit simple linear regression line is {:.2f}x + {:.2f}.'.format(m,b))"
   ]
  },
  {
   "cell_type": "markdown",
   "metadata": {},
   "source": [
    "### Step 2: Calculate the centroid."
   ]
  },
  {
   "cell_type": "markdown",
   "metadata": {},
   "source": [
    "The centroid of the dataset is calculated by using the mean function."
   ]
  },
  {
   "cell_type": "code",
   "execution_count": 9,
   "metadata": {},
   "outputs": [
    {
     "name": "stdout",
     "output_type": "stream",
     "text": [
      "The centroid for this dataset is x = 8.74 and y = 286.57.\n"
     ]
    }
   ],
   "source": [
    "# Code Cell 9\n",
    "# y coordinate for centroid\n",
    "y_mean = y.mean()    \n",
    "# x coordinate for centroid\n",
    "x_mean = x.mean()\n",
    "print ('The centroid for this dataset is x = {:.2f} and y = {:.2f}.'.format(x_mean, y_mean))"
   ]
  },
  {
   "cell_type": "markdown",
   "metadata": {},
   "source": [
    "### Step 3: Overlay the regression line and the centroid point on the plot."
   ]
  },
  {
   "cell_type": "code",
   "execution_count": 10,
   "metadata": {
    "scrolled": true
   },
   "outputs": [
    {
     "data": {
      "text/plain": [
       "<matplotlib.legend.Legend at 0x7ffbc99c5198>"
      ]
     },
     "execution_count": 10,
     "metadata": {},
     "output_type": "execute_result"
    },
    {
     "data": {
      "image/png": "[encoded data removed]",
      "text/plain": [
       "<Figure size 1440x720 with 1 Axes>"
      ]
     },
     "metadata": {
      "needs_background": "light"
     },
     "output_type": "display_data"
    }
   ],
   "source": [
    "# Code Cell 10\n",
    "# Create the plot inline\n",
    "%matplotlib inline\n",
    "\n",
    "# Enlarge the plot size\n",
    "plt.figure(figsize=(20,10))\n",
    "\n",
    "# Plot the scatter plot of the data set\n",
    "plt.plot(x,y, 'o', markersize = 14, label = \"Annual Net Sales\") \n",
    "\n",
    "# Plot the centroid point\n",
    "plt.plot(x_mean,y_mean, '*', markersize = 30, color = \"r\") \n",
    "\n",
    "# Plot the linear regression line\n",
    "plt.plot(x, m*x + b, '-', label = 'Simple Linear Regression Line', linewidth = 4)\n",
    "\n",
    "# Create the x and y axis labels\n",
    "plt.ylabel('Annual Net Sales', fontsize = 30)\n",
    "plt.xlabel('Number of Stores in District', fontsize = 30)\n",
    "\n",
    "# Enlarge x and y tick marks\n",
    "plt.xticks(fontsize = 20)\n",
    "plt.yticks(fontsize = 20)\n",
    "\n",
    "# Point out the centroid point in the plot\n",
    "plt.annotate('Centroid', xy=(x_mean-0.1, y_mean-5), xytext=(x_mean-3, y_mean-20), arrowprops=dict(facecolor='black', shrink=0.05), fontsize = 30)\n",
    "\n",
    "# Create legend\n",
    "plt.legend(loc = 'upper right', fontsize = 20)"
   ]
  },
  {
   "cell_type": "markdown",
   "metadata": {},
   "source": [
    "### Step 4: Prediction"
   ]
  },
  {
   "cell_type": "markdown",
   "metadata": {},
   "source": [
    "Using the linear regression line, you can predict the annual net sales based on the number of stores in the district."
   ]
  },
  {
   "cell_type": "code",
   "execution_count": 11,
   "metadata": {},
   "outputs": [],
   "source": [
    "# Code Cell 11\n",
    "# Function to predict the net sales from the regression line\n",
    "def predict(query):\n",
    "    if query >= 1:\n",
    "        predict = m * query + b\n",
    "        return predict\n",
    "    else:\n",
    "        print (\"You must have at least 1 store in the district to predict the annual net sales.\")"
   ]
  },
  {
   "cell_type": "code",
   "execution_count": 13,
   "metadata": {},
   "outputs": [
    {
     "data": {
      "text/plain": [
       "456.2313681207655"
      ]
     },
     "execution_count": 13,
     "metadata": {},
     "output_type": "execute_result"
    }
   ],
   "source": [
    "# Code Cell 12\n",
    "# Enter the number of stores in the function to generate the net sales prediction.\n",
    "\n",
    "##\n",
    "predict(4)"
   ]
  },
  {
   "cell_type": "markdown",
   "metadata": {},
   "source": [
    "What is the predicted net sales if there are 4 stores in the district?"
   ]
  },
  {
   "cell_type": "markdown",
   "metadata": {},
   "source": [
    "##### <font color = 'gray'>*Type your answer here.*</font>"
   ]
  },
  {
   "cell_type": "markdown",
   "metadata": {
    "collapsed": true
   },
   "source": [
    "<font size='0.5'>&copy; 2017 Cisco and/or its affiliates. All rights reserved. This document is Cisco Public.<font>"
   ]
  }
 ],
 "metadata": {
  "anaconda-cloud": {},
  "kernelspec": {
   "display_name": "Python 3",
   "language": "python",
   "name": "python3"
  },
  "language_info": {
   "codemirror_mode": {
    "name": "ipython",
    "version": 3
   },
   "file_extension": ".py",
   "mimetype": "text/x-python",
   "name": "python",
   "nbconvert_exporter": "python",
   "pygments_lexer": "ipython3",
   "version": "3.7.3"
  }
 },
 "nbformat": 4,
 "nbformat_minor": 1
}
